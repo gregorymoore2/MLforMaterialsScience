{
 "cells": [
  {
   "cell_type": "code",
   "execution_count": 1,
   "metadata": {},
   "outputs": [
    {
     "ename": "ModuleNotFoundError",
     "evalue": "No module named 'tensorflow'",
     "output_type": "error",
     "traceback": [
      "\u001b[1;31m---------------------------------------------------------------------------\u001b[0m",
      "\u001b[1;31mModuleNotFoundError\u001b[0m                       Traceback (most recent call last)",
      "Input \u001b[1;32mIn [1]\u001b[0m, in \u001b[0;36m<cell line: 1>\u001b[1;34m()\u001b[0m\n\u001b[1;32m----> 1\u001b[0m \u001b[38;5;28;01mfrom\u001b[39;00m \u001b[38;5;21;01mtensorflow\u001b[39;00m \u001b[38;5;28;01mimport\u001b[39;00m keras\n\u001b[0;32m      3\u001b[0m \u001b[38;5;28;01mimport\u001b[39;00m \u001b[38;5;21;01mtensorflow\u001b[39;00m \u001b[38;5;28;01mas\u001b[39;00m \u001b[38;5;21;01mtf\u001b[39;00m\n\u001b[0;32m      4\u001b[0m \u001b[38;5;28;01mimport\u001b[39;00m \u001b[38;5;21;01mrandom\u001b[39;00m \u001b[38;5;28;01mas\u001b[39;00m \u001b[38;5;21;01mpython_random\u001b[39;00m\n",
      "\u001b[1;31mModuleNotFoundError\u001b[0m: No module named 'tensorflow'"
     ]
    }
   ],
   "source": [
    "from tensorflow import keras\n",
    "\n",
    "import tensorflow as tf\n",
    "import random as python_random\n",
    "\n",
    "from tensorflow.keras.models import Sequential\n",
    "from tensorflow.keras.layers import Dense\n",
    "from tensorflow.keras import Input\n",
    "from tensorflow.keras.wrappers.scikit_learn import KerasClassifier\n",
    "\n",
    "import matplotlib.pyplot as plt\n",
    "import seaborn as sns\n",
    "import numpy as np\n",
    "import pandas as pd\n",
    "import scipy as sp\n",
    "import pickle\n",
    "\n",
    "from sklearn.model_selection import train_test_split\n",
    "from sklearn.preprocessing import StandardScaler\n",
    "from sklearn.preprocessing import LabelEncoder\n",
    "from sklearn.preprocessing import LabelBinarizer\n",
    "from sklearn.model_selection import RandomizedSearchCV\n",
    "\n",
    "%matplotlib inline"
   ]
  },
  {
   "cell_type": "markdown",
   "metadata": {},
   "source": [
    "# Homework 3 - Neural Network for Classification\n",
    "## Overview\n",
    "* Binary Classification\n",
    "* Hyperparameter tuning\n",
    "* Multi-Class Classification\n",
    "\n",
    "In the hands-on session we already gained some experience with neural network for regression. In this homework we will focus on classification problem instead, and will practice with hyperparameter tuning. The dataset is the granta data we have used in Hands-on 7 for KNN, SVM and decision tree. We will predict materials' tolerance to oxidation at 500C based on their Young's modulus and melting point.\n",
    "\n",
    "## Classification vs Regression: different settings in neural network\n",
    "Typical Regression NN architecture:"
   ]
  },
  {
   "cell_type": "markdown",
   "metadata": {},
   "source": [
    "| Hyperparameter | Typical Value |\n",
    "|----------------|---------------|\n",
    "| # input neurons | One per input feature |\n",
    "| # hidden layers | Depends on the problem |\n",
    "| # neurons per hidden layer | Depends on the problem |\n",
    "| # output neurons | 1 per prediction dimension |\n",
    "| Hidden activation | ReLU (or SELU) |\n",
    "| Output activation | None or ReLU/Softplus (if positive outputs) or Sigmoid/Tanh (if bounded outputs) |\n",
    "| Loss function | MSE or MAE/Huber (if outliers) |"
   ]
  },
  {
   "cell_type": "markdown",
   "metadata": {},
   "source": [
    "Typical Classification NN architecture:"
   ]
  },
  {
   "cell_type": "markdown",
   "metadata": {},
   "source": [
    "| Hyperparameter | Binary Classification | MuiltiClass Classification |\n",
    "|--------------|-------------|--------------|\n",
    "| Input and hidden layers | Same as regression | Same as regression |\n",
    "| # output neurons | 1 | 1 per class |\n",
    "| Output layer activation | Sigmoid | Softmax|\n",
    "| Loss function | Binary Cross Entropy | Sparse Categorical Crossentropy or Categorical Crossentropy|\n",
    "\n",
    "Note: the muilticlass classification here and later in this notebook assumes each class is exclusive (each sample only belongs to one of the classes)\n",
    "\n",
    "Reference: \n",
    "\n",
    "Hands-On Machine Learning with Scikit-Learn, Keras, and Tensorflow Concepts, Tools, and Techniques to Build Intelligent Systems by Aurélien Géron\n",
    "\n",
    "Loss functions in Keras: https://keras.io/api/losses/"
   ]
  },
  {
   "cell_type": "markdown",
   "metadata": {},
   "source": [
    "## Binary Classification\n",
    "\n",
    "Same as what we did in the SVM part in hands-on 7, we combine the 'Acceptable', 'Limited use', 'Unacceptable' into one new category called 'Other', to convert this classification problem into a binary one."
   ]
  },
  {
   "cell_type": "code",
   "execution_count": 56,
   "metadata": {},
   "outputs": [],
   "source": [
    "# you should download the grantadata.p from canvas first\n",
    "granta = pickle.load(open('grantadata.p','rb'))"
   ]
  },
  {
   "cell_type": "code",
   "execution_count": 57,
   "metadata": {},
   "outputs": [],
   "source": [
    "x = granta[[\"Young's modulus (10^6 psi)\",'Melting point (°F)']].values\n",
    "y = granta['Oxidation at 500C'].copy()\n",
    "\n",
    "for i in range(len(granta)):\n",
    "    if granta['Oxidation at 500C'][i] in ['Acceptable', 'Limited use', 'Unacceptable']:\n",
    "        y[i] = 'Other'"
   ]
  },
  {
   "cell_type": "markdown",
   "metadata": {},
   "source": [
    "Labels should be converted to numerical values for the neural network to proceed. Here we convert the label 'Excellent' to 0 and 'Other' to 1."
   ]
  },
  {
   "cell_type": "code",
   "execution_count": 58,
   "metadata": {},
   "outputs": [],
   "source": [
    "labels_map = {'Excellent':0,'Other':1}\n",
    "y_int = y.map(labels_map)"
   ]
  },
  {
   "cell_type": "markdown",
   "metadata": {},
   "source": [
    "Train-test split, and normalize."
   ]
  },
  {
   "cell_type": "code",
   "execution_count": 59,
   "metadata": {},
   "outputs": [],
   "source": [
    "x_train, x_test, y_train, y_test = train_test_split(x, y_int,\n",
    "                                                    test_size=0.20,\n",
    "                                                    random_state=111)\n",
    "\n",
    "scaler = StandardScaler().fit(x_train)\n",
    "x_train_norm = scaler.transform(x_train)\n",
    "x_test_norm = scaler.transform(x_test)"
   ]
  },
  {
   "cell_type": "markdown",
   "metadata": {},
   "source": [
    "Construct the neural network.\n"
   ]
  },
  {
   "cell_type": "code",
   "execution_count": 60,
   "metadata": {},
   "outputs": [],
   "source": [
    "def binary_nn():\n",
    "    model = Sequential()\n",
    "    #here we make an explicit input layer, it simply passes the input data to the later layer\n",
    "    model.add(Input(shape=x_train_norm.shape[1]))\n",
    "    #hidden layers\n",
    "    model.add(Dense(8, kernel_initializer='normal', activation='tanh'))\n",
    "    model.add(Dense(8, kernel_initializer='normal', activation='tanh'))\n",
    "    #output layer\n",
    "    model.add(Dense(1, kernel_initializer='normal', activation='sigmoid'))\n",
    "    model.compile(loss='binary_crossentropy', optimizer='adam',metrics=['accuracy'])\n",
    "    return model"
   ]
  },
  {
   "cell_type": "markdown",
   "metadata": {},
   "source": [
    "### Question 1: Note that here we set the parameter `metrics` in model.compile to be `accuracy`. What does it mean? \n",
    "(you can refer to keras documentation about metrics here: https://keras.io/api/metrics/ )\n"
   ]
  },
  {
   "cell_type": "markdown",
   "metadata": {},
   "source": [
    "Train the neural network."
   ]
  },
  {
   "cell_type": "code",
   "execution_count": 61,
   "metadata": {},
   "outputs": [],
   "source": [
    "classifier = KerasClassifier(build_fn=binary_nn)\n",
    "history = classifier.fit(x_train_norm, y_train, validation_split=0.33, epochs=1000, batch_size=32,verbose=0)"
   ]
  },
  {
   "cell_type": "code",
   "execution_count": 62,
   "metadata": {},
   "outputs": [
    {
     "data": {
      "image/png": "[encoded data removed]",
      "text/plain": [
       "<Figure size 576x360 with 1 Axes>"
      ]
     },
     "metadata": {
      "needs_background": "light"
     },
     "output_type": "display_data"
    }
   ],
   "source": [
    "pd.DataFrame(history.history).plot(figsize=(8, 5))\n",
    "plt.grid(True)\n",
    "plt.gca().set_ylim(0, 1)\n",
    "plt.show()"
   ]
  },
  {
   "cell_type": "markdown",
   "metadata": {},
   "source": [
    "Make prediction on test set, and get test accuracy."
   ]
  },
  {
   "cell_type": "code",
   "execution_count": 63,
   "metadata": {},
   "outputs": [],
   "source": [
    "y_test_predict = classifier.predict(x_test_norm)"
   ]
  },
  {
   "cell_type": "code",
   "execution_count": 64,
   "metadata": {},
   "outputs": [
    {
     "name": "stdout",
     "output_type": "stream",
     "text": [
      "78/78 [==============================] - 0s 71us/sample - loss: 0.3743 - accuracy: 0.8077\n",
      "test set accuracy is 0.81\n"
     ]
    }
   ],
   "source": [
    "test_loss = classifier.model.evaluate(x_test_norm, y_test)\n",
    "print(\"test set accuracy is %.2f\" % test_loss[1])"
   ]
  },
  {
   "cell_type": "markdown",
   "metadata": {},
   "source": [
    "\n",
    "Note that the output value of this neural network is one single value ranges from 0 to 1. This value is actually inferrd as the probability that a sample belong to the class 1 (corresponding to the label 'Other' in our case).\n",
    "The samples with probability greater than 0.5 will be classified to class 1, and the samples with probablity equal or lower than 0.5 will be classified to class 0.\n",
    "\n",
    "A decision boundary can thus be found. The code below creates a meshgrid first(a matrix with evenly spaced x and y value), and apply the classifer we just trained to each point in the meshgrid. The points that classified to class 1 are shown in red and the points that classified to class 0 are shown in blue. Thus the boundary in between the red and blue regions is shown as the decision boundary.\n",
    "\n",
    "### To-do 1: Please make a scatterplot superposed on the given decision boundary plot. In the scatterplot show the training data points as circles with color indicating its true category, show the testing data points as crosses with color indicating its predicted category.\n",
    "(You can refer to the scatterplot in the SVM part of Hands-on 7, though you don't have to use the same way to produce the plot)\n"
   ]
  },
  {
   "cell_type": "code",
   "execution_count": 65,
   "metadata": {},
   "outputs": [
    {
     "data": {
      "text/plain": [
       "<matplotlib.contour.QuadContourSet at 0x7f438473df10>"
      ]
     },
     "execution_count": 65,
     "metadata": {},
     "output_type": "execute_result"
    },
    {
     "data": {
      "image/png": "[encoded data removed]",
      "text/plain": [
       "<Figure size 2000x1500 with 1 Axes>"
      ]
     },
     "metadata": {
      "needs_background": "light"
     },
     "output_type": "display_data"
    }
   ],
   "source": [
    "# create a dense meshgrid\n",
    "xx, yy = np.meshgrid(np.arange(-1.5, 4.5, 0.05),\n",
    "                     np.arange(-2, 3, 0.05))\n",
    "\n",
    "# classify each points in the grid\n",
    "z = classifier.predict(np.c_[xx.ravel(), yy.ravel()]) \n",
    "z = np.around(z)\n",
    "z = z.reshape(xx.shape)\n",
    "\n",
    "#plot the meshgrid\n",
    "plt.figure(figsize=(8,6),dpi=250)\n",
    "plt.contourf(xx, yy, z, cmap=plt.cm.coolwarm, alpha=0.4)\n",
    "\n",
    "# please add your code here to create the scatter plot\n",
    "\n"
   ]
  },
  {
   "cell_type": "markdown",
   "metadata": {},
   "source": [
    "## Hyperparameter Tuning\n",
    "\n",
    "Instead of trying different setting one by one like what we did in the hands-on session, we can use the function `RandomizedSearchCV` in sklearn to randomly search different combination of hyperparameters, and find the one with highest test accuracy estimated by k-fold cross validation.\n",
    "\n",
    "Wrap the neural network in a function first. Note that the hyperparameters you would like to tune inside the neural network should be set as the parameters of this wrapping function."
   ]
  },
  {
   "cell_type": "code",
   "execution_count": 66,
   "metadata": {},
   "outputs": [],
   "source": [
    "def binary_nn_builder(optimizer='Adam',learning_rate=0.01):\n",
    "    model = Sequential()\n",
    "    model.add(Input(shape=x_train_norm.shape[1]))\n",
    "    model.add(Dense(8, kernel_initializer='normal', activation='tanh'))\n",
    "    model.add(Dense(8, kernel_initializer='normal', activation='tanh'))\n",
    "    model.add(Dense(1, kernel_initializer='normal', activation='sigmoid'))\n",
    "    optimizer = keras.optimizers.Adam(lr=learning_rate)\n",
    "    model.compile(loss='binary_crossentropy', optimizer=optimizer,metrics=['accuracy'])\n",
    "    return model"
   ]
  },
  {
   "cell_type": "code",
   "execution_count": 67,
   "metadata": {},
   "outputs": [],
   "source": [
    "classifier_search = KerasClassifier(binary_nn_builder)"
   ]
  },
  {
   "cell_type": "markdown",
   "metadata": {},
   "source": [
    "The parameter `param_distributions` should be a dictionary that gives the searching range for each hyperparameters. \n",
    "\n",
    "As an example, we search: optimizers in Adam or SGD, the batch size from 4 to 64, the learning rate from 0.0001 to 0.1.\n",
    "\n",
    "The parameter `cv` specifies the number of folds in k-fold cross validation.\n",
    "`n_iter` specifies the number of parameter settings that are sampled.\n",
    "\n",
    "Note that the `epochs` here means all the hyperparameters are evaluated after 100 epochs of training. Feel free to set it to a larger number (but will take longer)."
   ]
  },
  {
   "cell_type": "code",
   "execution_count": 68,
   "metadata": {},
   "outputs": [
    {
     "data": {
      "text/plain": [
       "RandomizedSearchCV(cv=3,\n",
       "                   estimator=<tensorflow.python.keras.wrappers.scikit_learn.KerasClassifier object at 0x7f43847c0f10>,\n",
       "                   n_iter=20, n_jobs=-1,\n",
       "                   param_distributions={'batch_size': [4, 5, 6, 7, 8, 9, 10, 11,\n",
       "                                                       12, 13, 14, 15, 16, 17,\n",
       "                                                       18, 19, 20, 21, 22, 23,\n",
       "                                                       24, 25, 26, 27, 28, 29,\n",
       "                                                       30, 31, 32, 33, ...],\n",
       "                                        'learning_rate': (0.1, 0.03, 0.01,\n",
       "                                                          0.003, 0.001, 0.0003,\n",
       "                                                          0.0001),\n",
       "                                        'optimizer': ['Adam', 'SGD']})"
      ]
     },
     "execution_count": 68,
     "metadata": {},
     "output_type": "execute_result"
    }
   ],
   "source": [
    "parameters = {\n",
    "    \"optimizer\": ['Adam','SGD'],\n",
    "    \"batch_size\": np.arange(4,65).tolist(),\n",
    "    \"learning_rate\":(0.1,0.03,0.01,0.003,0.001,0.0003,0.0001)\n",
    "}\n",
    "\n",
    "rnd_search_cv = RandomizedSearchCV(classifier_search,param_distributions=parameters,n_iter=20,cv=3,verbose=0,n_jobs=-1)\n",
    "rnd_search_cv.fit(x_train_norm, y_train,verbose=0,epochs=100)"
   ]
  },
  {
   "cell_type": "markdown",
   "metadata": {},
   "source": [
    "Return the hyperparameters that gave the best test accuracy estimated by k-fold cross validation."
   ]
  },
  {
   "cell_type": "code",
   "execution_count": 69,
   "metadata": {},
   "outputs": [
    {
     "data": {
      "text/plain": [
       "{'optimizer': 'Adam', 'learning_rate': 0.1, 'batch_size': 54}"
      ]
     },
     "execution_count": 69,
     "metadata": {},
     "output_type": "execute_result"
    }
   ],
   "source": [
    "rnd_search_cv.best_params_"
   ]
  },
  {
   "cell_type": "markdown",
   "metadata": {},
   "source": [
    "Return the model that gave the best test accuracy estimated by k-fold cross validation."
   ]
  },
  {
   "cell_type": "code",
   "execution_count": 70,
   "metadata": {},
   "outputs": [],
   "source": [
    "optimal_model = rnd_search_cv.best_estimator_.model"
   ]
  },
  {
   "cell_type": "markdown",
   "metadata": {},
   "source": [
    "Evaluate the best model on test dataset."
   ]
  },
  {
   "cell_type": "code",
   "execution_count": 71,
   "metadata": {},
   "outputs": [
    {
     "name": "stdout",
     "output_type": "stream",
     "text": [
      "78/78 [==============================] - 0s 1ms/sample - loss: 0.4648 - accuracy: 0.7564\n",
      "test set error is 0.46\n"
     ]
    }
   ],
   "source": [
    "test_loss_optimal = optimal_model.evaluate(x_test_norm, y_test)\n",
    "print(\"test set error is %.2f\" % test_loss_optimal[0])"
   ]
  },
  {
   "cell_type": "markdown",
   "metadata": {},
   "source": [
    "### To-do 2: Set the optimizer,batch size,learning rate to be the optimal one we found above, then search: the number of neuron in hidden layer from 4 to 20, activation function of hidden layer in relu or tanh. Feel free to use larger `epoch` and `n_iter` that are affordable to you."
   ]
  },
  {
   "cell_type": "code",
   "execution_count": null,
   "metadata": {},
   "outputs": [],
   "source": []
  },
  {
   "cell_type": "markdown",
   "metadata": {},
   "source": [
    "## Multiclass classification\n",
    "\n",
    "For multiclass classification problem, the number of output neurons should equal to the number of classes. Each output value will be a number between 0 and 1, which you can interpret as the estimated probability of the corresponding class. You should use the `Softmax` activation function in the output layer to ensure all the estimated probability add up to one.\n",
    "\n",
    "You can either convert the labels to integers by the `LabelEncoder` from sklearn, or convert to the one-hot numeric array by the `LabelBinarizer` from sklearn.\n",
    "\n",
    "Note that your loss functions should be adjusted accordingly. Sparse Categorical Crossentropy should be used for label encoded case and Categorical Crossentropy should be used for one-hot encoded case."
   ]
  },
  {
   "cell_type": "code",
   "execution_count": 72,
   "metadata": {},
   "outputs": [
    {
     "data": {
      "text/plain": [
       "['Acceptable', 'Excellent', 'Limited use', 'Unacceptable']"
      ]
     },
     "execution_count": 72,
     "metadata": {},
     "output_type": "execute_result"
    }
   ],
   "source": [
    "# Label Encoder as example\n",
    "le = LabelEncoder()\n",
    "le.fit(granta['Oxidation at 500C'].values)\n",
    "list(le.classes_)"
   ]
  },
  {
   "cell_type": "code",
   "execution_count": 73,
   "metadata": {},
   "outputs": [],
   "source": [
    "y_encode = le.transform(granta['Oxidation at 500C'].values)"
   ]
  },
  {
   "cell_type": "code",
   "execution_count": 74,
   "metadata": {},
   "outputs": [
    {
     "data": {
      "text/plain": [
       "array([1, 1, 1, 1, 1, 1, 1, 1, 1, 1, 1, 1, 1, 1, 1, 1, 1, 1, 1, 1, 1, 1,\n",
       "       1, 1, 1, 1, 1, 1, 1, 1, 1, 1, 1, 1, 1, 1, 1, 1, 1, 1, 1, 1, 1, 1,\n",
       "       1, 1, 1, 1, 1, 1, 1, 1, 1, 1, 1, 1, 1, 1, 1, 1, 1, 1, 1, 1, 1, 1,\n",
       "       1, 1, 1, 1, 1, 1, 1, 1, 1, 1, 1, 1, 1, 1, 1, 1, 1, 1, 1, 1, 1, 1,\n",
       "       1, 1, 1, 1, 1, 2, 1, 1, 1, 1, 1, 1, 1, 1, 1, 1, 1, 1, 1, 1, 1, 1,\n",
       "       1, 1, 1, 1, 1, 1, 1, 1, 1, 1, 1, 1, 1, 1, 1, 2, 1, 1, 2, 2, 2, 2,\n",
       "       2, 2, 2, 2, 2, 2, 2, 2, 2, 2, 1, 1, 1, 1, 3, 1, 1, 1, 1, 1, 1, 1,\n",
       "       1, 1, 1, 1, 1, 1, 1, 1, 1, 1, 1, 2, 2, 1, 1, 1, 1, 1, 1, 1, 1, 1,\n",
       "       3, 3, 3, 3, 3, 3, 3, 3, 3, 3, 3, 3, 3, 3, 3, 3, 3, 3, 3, 3, 3, 3,\n",
       "       3, 3, 3, 3, 3, 3, 3, 3, 3, 0, 0, 0, 2, 2, 3, 0, 0, 0, 0, 3, 1, 1,\n",
       "       1, 2, 2, 2, 2, 2, 2, 2, 2, 2, 2, 2, 2, 2, 2, 2, 3, 2, 3, 3, 1, 1,\n",
       "       1, 1, 1, 0, 0, 2, 0, 0, 0, 1, 3, 3, 3, 3, 3, 3, 3, 3, 3, 0, 0, 2,\n",
       "       1, 1, 1, 1, 1, 1, 1, 1, 1, 1, 1, 1, 1, 1, 1, 1, 3, 3, 2, 1, 1, 2,\n",
       "       2, 2, 1, 1, 1, 1, 1, 1, 1, 3, 1, 1, 1, 1, 3, 1, 1, 1, 3, 3, 3, 1,\n",
       "       0, 1, 0, 2, 2, 1, 1, 1, 1, 1, 1, 1, 1, 0, 0, 0, 0, 3, 3, 1, 1, 1,\n",
       "       1, 3, 0, 0, 0, 0, 0, 0, 0, 0, 0, 0, 0, 0, 0, 1, 1, 1, 1, 1, 1, 1,\n",
       "       1, 1, 3, 1, 0, 3, 3, 3, 3, 3, 3, 3, 3, 3, 3, 3, 3, 3, 3, 1, 1, 1,\n",
       "       3, 3, 3, 3, 3, 1, 1, 1, 1, 1, 1, 1, 2, 1, 1, 3])"
      ]
     },
     "execution_count": 74,
     "metadata": {},
     "output_type": "execute_result"
    }
   ],
   "source": [
    "y_encode"
   ]
  },
  {
   "cell_type": "code",
   "execution_count": 75,
   "metadata": {},
   "outputs": [
    {
     "data": {
      "text/plain": [
       "['Acceptable', 'Excellent', 'Limited use', 'Unacceptable']"
      ]
     },
     "execution_count": 75,
     "metadata": {},
     "output_type": "execute_result"
    }
   ],
   "source": [
    "# One-hot encode as example\n",
    "lb = LabelBinarizer()\n",
    "lb.fit(granta['Oxidation at 500C'].values)\n",
    "list(lb.classes_)"
   ]
  },
  {
   "cell_type": "code",
   "execution_count": 76,
   "metadata": {},
   "outputs": [],
   "source": [
    "y_onehot = lb.transform(granta['Oxidation at 500C'].values)"
   ]
  },
  {
   "cell_type": "code",
   "execution_count": 77,
   "metadata": {},
   "outputs": [
    {
     "data": {
      "text/plain": [
       "array([[0, 1, 0, 0],\n",
       "       [0, 1, 0, 0],\n",
       "       [0, 1, 0, 0],\n",
       "       ...,\n",
       "       [0, 1, 0, 0],\n",
       "       [0, 1, 0, 0],\n",
       "       [0, 0, 0, 1]])"
      ]
     },
     "execution_count": 77,
     "metadata": {},
     "output_type": "execute_result"
    }
   ],
   "source": [
    "y_onehot"
   ]
  },
  {
   "cell_type": "markdown",
   "metadata": {},
   "source": [
    "### To-do 3: Create a multiclass classifer with two hidden layers (all the hyperparameters are up to your choice). Train your neural network(hyperparameter tuning is not required), plot the `history`. Get the test accuracy.\n",
    "\n",
    "Note: make sure you correctly set up number of neurons and activation funciton in the output layer. make sure you use appropriate loss function."
   ]
  },
  {
   "cell_type": "code",
   "execution_count": null,
   "metadata": {},
   "outputs": [],
   "source": []
  }
 ],
 "metadata": {
  "kernelspec": {
   "display_name": "Python 3 (ipykernel)",
   "language": "python",
   "name": "python3"
  },
  "language_info": {
   "codemirror_mode": {
    "name": "ipython",
    "version": 3
   },
   "file_extension": ".py",
   "mimetype": "text/x-python",
   "name": "python",
   "nbconvert_exporter": "python",
   "pygments_lexer": "ipython3",
   "version": "3.9.12"
  }
 },
 "nbformat": 4,
 "nbformat_minor": 4
}
