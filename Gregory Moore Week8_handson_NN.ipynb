{
 "cells": [
  {
   "cell_type": "code",
   "execution_count": 1,
   "metadata": {},
   "outputs": [],
   "source": [
    "from tensorflow import keras\n",
    "\n",
    "from tensorflow.keras.models import Sequential\n",
    "from tensorflow.keras.layers import Dense\n",
    "from tensorflow.keras.wrappers.scikit_learn import KerasRegressor\n",
    "\n",
    "import matplotlib.pyplot as plt\n",
    "from matplotlib.ticker import MaxNLocator\n",
    "import numpy as np\n",
    "import pandas as pd\n",
    "from sklearn.model_selection import cross_val_score\n",
    "from sklearn.model_selection import KFold\n",
    "from sklearn.model_selection import train_test_split\n",
    "from sklearn.preprocessing import StandardScaler\n",
    "from sklearn.pipeline import Pipeline\n",
    "\n",
    "%matplotlib inline"
   ]
  },
  {
   "cell_type": "markdown",
   "metadata": {},
   "source": [
    "## Neural Network\n",
    "\n",
    "In this notebook, we will work with the qm7b data."
   ]
  },
  {
   "cell_type": "code",
   "execution_count": 2,
   "metadata": {},
   "outputs": [
    {
     "data": {
      "text/html": [
       "<div>\n",
       "<style scoped>\n",
       "    .dataframe tbody tr th:only-of-type {\n",
       "        vertical-align: middle;\n",
       "    }\n",
       "\n",
       "    .dataframe tbody tr th {\n",
       "        vertical-align: top;\n",
       "    }\n",
       "\n",
       "    .dataframe thead th {\n",
       "        text-align: right;\n",
       "    }\n",
       "</style>\n",
       "<table border=\"1\" class=\"dataframe\">\n",
       "  <thead>\n",
       "    <tr style=\"text-align: right;\">\n",
       "      <th></th>\n",
       "      <th>id</th>\n",
       "      <th>ae_pbe0</th>\n",
       "      <th>emax_zindo</th>\n",
       "      <th>imax_zindo</th>\n",
       "      <th>homo_zindo</th>\n",
       "      <th>lumo_zindo</th>\n",
       "      <th>e1_zindo</th>\n",
       "      <th>ip_zindo</th>\n",
       "      <th>ea_zindo</th>\n",
       "      <th>homo_pbe0</th>\n",
       "      <th>...</th>\n",
       "      <th>homo_gw</th>\n",
       "      <th>lumo_gw</th>\n",
       "      <th>p_pbe0</th>\n",
       "      <th>p_scs</th>\n",
       "      <th>n_H</th>\n",
       "      <th>n_C</th>\n",
       "      <th>n_N</th>\n",
       "      <th>n_O</th>\n",
       "      <th>n_S</th>\n",
       "      <th>n_Cl</th>\n",
       "    </tr>\n",
       "  </thead>\n",
       "  <tbody>\n",
       "    <tr>\n",
       "      <th>0</th>\n",
       "      <td>1</td>\n",
       "      <td>-420.933746</td>\n",
       "      <td>39.694626</td>\n",
       "      <td>0.621841</td>\n",
       "      <td>-16.013</td>\n",
       "      <td>4.162</td>\n",
       "      <td>36.768073</td>\n",
       "      <td>15.72523</td>\n",
       "      <td>-3.98613</td>\n",
       "      <td>-10.9488</td>\n",
       "      <td>...</td>\n",
       "      <td>-14.1341</td>\n",
       "      <td>1.0870</td>\n",
       "      <td>2.534576</td>\n",
       "      <td>2.43222</td>\n",
       "      <td>4</td>\n",
       "      <td>1</td>\n",
       "      <td>0</td>\n",
       "      <td>0</td>\n",
       "      <td>0</td>\n",
       "      <td>0</td>\n",
       "    </tr>\n",
       "    <tr>\n",
       "      <th>1</th>\n",
       "      <td>2</td>\n",
       "      <td>-718.419189</td>\n",
       "      <td>22.622486</td>\n",
       "      <td>0.628328</td>\n",
       "      <td>-13.549</td>\n",
       "      <td>3.684</td>\n",
       "      <td>11.717433</td>\n",
       "      <td>13.41121</td>\n",
       "      <td>-3.49181</td>\n",
       "      <td>-9.5577</td>\n",
       "      <td>...</td>\n",
       "      <td>-12.5472</td>\n",
       "      <td>1.1186</td>\n",
       "      <td>4.332028</td>\n",
       "      <td>4.44500</td>\n",
       "      <td>6</td>\n",
       "      <td>2</td>\n",
       "      <td>0</td>\n",
       "      <td>0</td>\n",
       "      <td>0</td>\n",
       "      <td>0</td>\n",
       "    </tr>\n",
       "    <tr>\n",
       "      <th>2</th>\n",
       "      <td>3</td>\n",
       "      <td>-570.024841</td>\n",
       "      <td>22.940671</td>\n",
       "      <td>0.709060</td>\n",
       "      <td>-10.160</td>\n",
       "      <td>1.231</td>\n",
       "      <td>7.137266</td>\n",
       "      <td>9.75211</td>\n",
       "      <td>-0.82042</td>\n",
       "      <td>-7.8768</td>\n",
       "      <td>...</td>\n",
       "      <td>-10.4383</td>\n",
       "      <td>1.9456</td>\n",
       "      <td>4.173282</td>\n",
       "      <td>3.92308</td>\n",
       "      <td>4</td>\n",
       "      <td>2</td>\n",
       "      <td>0</td>\n",
       "      <td>0</td>\n",
       "      <td>0</td>\n",
       "      <td>0</td>\n",
       "    </tr>\n",
       "    <tr>\n",
       "      <th>3</th>\n",
       "      <td>4</td>\n",
       "      <td>-410.286163</td>\n",
       "      <td>15.973798</td>\n",
       "      <td>2.228480</td>\n",
       "      <td>-10.706</td>\n",
       "      <td>2.145</td>\n",
       "      <td>4.624107</td>\n",
       "      <td>10.46577</td>\n",
       "      <td>-1.89847</td>\n",
       "      <td>-8.4021</td>\n",
       "      <td>...</td>\n",
       "      <td>-11.1629</td>\n",
       "      <td>1.1958</td>\n",
       "      <td>3.512394</td>\n",
       "      <td>3.32175</td>\n",
       "      <td>2</td>\n",
       "      <td>2</td>\n",
       "      <td>0</td>\n",
       "      <td>0</td>\n",
       "      <td>0</td>\n",
       "      <td>0</td>\n",
       "    </tr>\n",
       "    <tr>\n",
       "      <th>4</th>\n",
       "      <td>5</td>\n",
       "      <td>-868.855408</td>\n",
       "      <td>17.900516</td>\n",
       "      <td>0.556174</td>\n",
       "      <td>-12.365</td>\n",
       "      <td>3.825</td>\n",
       "      <td>10.311655</td>\n",
       "      <td>11.96491</td>\n",
       "      <td>-3.57487</td>\n",
       "      <td>-8.3534</td>\n",
       "      <td>...</td>\n",
       "      <td>-10.8132</td>\n",
       "      <td>1.2002</td>\n",
       "      <td>5.480160</td>\n",
       "      <td>5.78632</td>\n",
       "      <td>6</td>\n",
       "      <td>3</td>\n",
       "      <td>0</td>\n",
       "      <td>0</td>\n",
       "      <td>0</td>\n",
       "      <td>0</td>\n",
       "    </tr>\n",
       "  </tbody>\n",
       "</table>\n",
       "<p>5 rows × 21 columns</p>\n",
       "</div>"
      ],
      "text/plain": [
       "   id     ae_pbe0  emax_zindo  imax_zindo  homo_zindo  lumo_zindo   e1_zindo  \\\n",
       "0   1 -420.933746   39.694626    0.621841     -16.013       4.162  36.768073   \n",
       "1   2 -718.419189   22.622486    0.628328     -13.549       3.684  11.717433   \n",
       "2   3 -570.024841   22.940671    0.709060     -10.160       1.231   7.137266   \n",
       "3   4 -410.286163   15.973798    2.228480     -10.706       2.145   4.624107   \n",
       "4   5 -868.855408   17.900516    0.556174     -12.365       3.825  10.311655   \n",
       "\n",
       "   ip_zindo  ea_zindo  homo_pbe0  ...  homo_gw  lumo_gw    p_pbe0    p_scs  \\\n",
       "0  15.72523  -3.98613   -10.9488  ... -14.1341   1.0870  2.534576  2.43222   \n",
       "1  13.41121  -3.49181    -9.5577  ... -12.5472   1.1186  4.332028  4.44500   \n",
       "2   9.75211  -0.82042    -7.8768  ... -10.4383   1.9456  4.173282  3.92308   \n",
       "3  10.46577  -1.89847    -8.4021  ... -11.1629   1.1958  3.512394  3.32175   \n",
       "4  11.96491  -3.57487    -8.3534  ... -10.8132   1.2002  5.480160  5.78632   \n",
       "\n",
       "   n_H  n_C  n_N  n_O  n_S  n_Cl  \n",
       "0    4    1    0    0    0     0  \n",
       "1    6    2    0    0    0     0  \n",
       "2    4    2    0    0    0     0  \n",
       "3    2    2    0    0    0     0  \n",
       "4    6    3    0    0    0     0  \n",
       "\n",
       "[5 rows x 21 columns]"
      ]
     },
     "execution_count": 2,
     "metadata": {},
     "output_type": "execute_result"
    }
   ],
   "source": [
    "qm7b = pd.read_csv('http://faculty.washington.edu/tingcao/wordpress/wp-content/uploads/2020/10/qm7b.csv');\n",
    "qm7b.head()"
   ]
  },
  {
   "cell_type": "markdown",
   "metadata": {},
   "source": [
    "Let our predictors be 'homo_zindo', 'lumo_zindo', target be 'e1_zindo' (first excitation energy).\n",
    "\n",
    "Do the train-test splitting first."
   ]
  },
  {
   "cell_type": "code",
   "execution_count": 3,
   "metadata": {},
   "outputs": [],
   "source": [
    "x = qm7b[['homo_zindo', 'lumo_zindo']].values\n",
    "y = qm7b['e1_zindo'].values\n",
    "x_train, x_test, y_train, y_test = train_test_split(x, y,\n",
    "                                                    test_size=0.20,\n",
    "                                                    random_state=111)"
   ]
  },
  {
   "cell_type": "markdown",
   "metadata": {},
   "source": [
    "## Normalize the data\n",
    "\n",
    "The `StandardScaler` normalize the data by: $X_i = \\frac{X_i - \\mu _i}{\\sigma _i}$,\n",
    "\n",
    "$X_i$ is the $i$-th feature, $\\mu_i$ is the mean value of the feature $i$ in the training data, $\\sigma_i$ is the variance of the feature $i$ in the training data."
   ]
  },
  {
   "cell_type": "code",
   "execution_count": 4,
   "metadata": {},
   "outputs": [],
   "source": [
    "scaler = StandardScaler().fit(x_train)\n",
    "x_train_norm = scaler.transform(x_train)\n",
    "x_test_norm = scaler.transform(x_test)"
   ]
  },
  {
   "cell_type": "markdown",
   "metadata": {},
   "source": [
    "Histogram before normalization:"
   ]
  },
  {
   "cell_type": "code",
   "execution_count": 5,
   "metadata": {},
   "outputs": [
    {
     "data": {
      "text/plain": [
       "(array([ 19.,  33.,  97., 249., 304., 268.,  87.,  88., 256.,  42.]),\n",
       " array([-2.284 , -1.6731, -1.0622, -0.4513,  0.1596,  0.7705,  1.3814,\n",
       "         1.9923,  2.6032,  3.2141,  3.825 ]),\n",
       " <a list of 10 Patch objects>)"
      ]
     },
     "execution_count": 5,
     "metadata": {},
     "output_type": "execute_result"
    },
    {
     "data": {
      "image/png": "[encoded data removed]",
      "text/plain": [
       "<Figure size 432x288 with 1 Axes>"
      ]
     },
     "metadata": {
      "needs_background": "light"
     },
     "output_type": "display_data"
    }
   ],
   "source": [
    "plt.hist(x_test[:,0])\n",
    "plt.hist(x_test[:,1])"
   ]
  },
  {
   "cell_type": "markdown",
   "metadata": {},
   "source": [
    "Histogram after normalization:"
   ]
  },
  {
   "cell_type": "code",
   "execution_count": 6,
   "metadata": {},
   "outputs": [
    {
     "data": {
      "text/plain": [
       "(array([ 19.,  33.,  97., 249., 304., 268.,  87.,  88., 256.,  42.]),\n",
       " array([-2.5437301 , -2.0774628 , -1.6111955 , -1.1449282 , -0.67866089,\n",
       "        -0.21239359,  0.25387371,  0.72014101,  1.18640831,  1.65267562,\n",
       "         2.11894292]),\n",
       " <a list of 10 Patch objects>)"
      ]
     },
     "execution_count": 6,
     "metadata": {},
     "output_type": "execute_result"
    },
    {
     "data": {
      "image/png": "[encoded data removed]",
      "text/plain": [
       "<Figure size 432x288 with 1 Axes>"
      ]
     },
     "metadata": {
      "needs_background": "light"
     },
     "output_type": "display_data"
    }
   ],
   "source": [
    "plt.hist(x_test_norm[:,0])\n",
    "plt.hist(x_test_norm[:,1])"
   ]
  },
  {
   "cell_type": "markdown",
   "metadata": {},
   "source": [
    "## Train and test neural network\n",
    "\n",
    "We construct a neural network model with one input layer, one hidden layer and one output layer, and wrap it in a function `nnmodel1()`.\n",
    "\n",
    "<img width=\"512\" alt=\"NN\" src=\"https://www.astroml.org/_images/fig_neural_network_1.png\"></a>\n",
    "\n",
    "(picture from https://www.datastuff.tech/machine-learning/convolutional-neural-networks-an-introduction-tensorflow-eager/)\n",
    "\n",
    "The picture illustrates how neural network works. (the number of neurons are different in our case) \n",
    "\n",
    "* `Dense`: Dense implements the operation: `output = activation(dot(input, kernel) + bias)` where `activation` is the element-wise activation function passed as the activation argument, `kernel` is a weights matrix created by the layer, and `bias` is a bias vector created by the layer (only applicable if use_bias is True).\n"
   ]
  },
  {
   "cell_type": "code",
   "execution_count": 7,
   "metadata": {},
   "outputs": [],
   "source": [
    "def nnmodel1():\n",
    "    #Create nn model using sequential function, specify that the NN has to be sequential, stacked one by one\n",
    "    model = Sequential()\n",
    "    \n",
    "    #input layer\n",
    "    #model.add adds layers to the model we created\n",
    "    #Kernel is the \"w\" in the image, all the connections between the input & hiden layers\n",
    "    #2 means we only want to pass 2 neurons in the input layer = number features in the data set\n",
    "    #input dimension is the # columns in training data set\n",
    "    \n",
    "    model.add(Dense(2, input_dim=x_train_norm.shape[1], kernel_initializer='normal', activation='relu'))\n",
    "    \n",
    "    #hidden layer\n",
    "    model.add(Dense(20, kernel_initializer='normal', activation='relu'))\n",
    "    \n",
    "    #ouptput layer\n",
    "    model.add(Dense(1, kernel_initializer='normal'))\n",
    "    \n",
    "\n",
    "    #loss specifies how we calculate the loss function of the NN, because this is regression model we use Mean squared error\n",
    "    #optimization code adam\n",
    "    model.compile(loss='mean_squared_error', optimizer='adam')\n",
    "    return model"
   ]
  },
  {
   "cell_type": "markdown",
   "metadata": {},
   "source": [
    "Train the NN:\n",
    "\n",
    "* `epochs`: specify the number of epochs. In each epoch, ALL the training data will be propagated through the network once.\n",
    "* `batch_size`: the number of samples that will be propagated through the network in a batch. The weights in the network will be updated after each batch (this might depend the optimization algorithm you choose).\n",
    "* `validation_split`: split the given ratio of training data into validation data, the rest is training data. Note that only the training data will be used to train the model, the validation data is just used for evaluate the accuracy of the model after each epoch. \n",
    "\n",
    "The overall process:\n",
    "\n",
    "    For each epoch:\n",
    "        For each batch:\n",
    "            For each training data in the batch:\n",
    "                propagate through the network\n",
    "            Update the weights\n",
    "            Get the accuracy of training dataset\n",
    "        For each validation data in the batch:\n",
    "            Get the accuracy of validation dataset\n",
    "            "
   ]
  },
  {
   "cell_type": "code",
   "execution_count": 8,
   "metadata": {},
   "outputs": [],
   "source": [
    "np.random.seed(111)\n",
    "estimator = KerasRegressor(build_fn=nnmodel1) #specify the nn object called estimator\n",
    "#build fn = nnmodel1 \n",
    "history = estimator.fit(x_train_norm, y_train, validation_split=0.33, epochs=20, batch_size=32, verbose=0)"
   ]
  },
  {
   "cell_type": "code",
   "execution_count": 9,
   "metadata": {},
   "outputs": [
    {
     "data": {
      "text/plain": [
       "{'loss': [32.35867670900333,\n",
       "  15.610334837658804,\n",
       "  2.87082300497138,\n",
       "  1.2941912174471664,\n",
       "  0.9262151467627373,\n",
       "  0.8960305636220344,\n",
       "  0.8917722776069404,\n",
       "  0.8874281080860035,\n",
       "  0.8786208402542841,\n",
       "  0.8714742045965254,\n",
       "  0.862991816508844,\n",
       "  0.8562296620930697,\n",
       "  0.851611800568938,\n",
       "  0.8447031541640714,\n",
       "  0.8411105438048795,\n",
       "  0.8393474828382457,\n",
       "  0.8360159551381571,\n",
       "  0.8368786664729779,\n",
       "  0.8333449820307224,\n",
       "  0.8323754562107426],\n",
       " 'val_loss': [25.961304848935423,\n",
       "  5.087969046680867,\n",
       "  1.604329414728309,\n",
       "  0.8167262818633008,\n",
       "  0.7036820309502738,\n",
       "  0.6926483061133313,\n",
       "  0.6878325298052876,\n",
       "  0.6838737012458449,\n",
       "  0.6827522851839787,\n",
       "  0.6675602555775842,\n",
       "  0.6596365333104334,\n",
       "  0.6561126876778963,\n",
       "  0.6519844008594,\n",
       "  0.6453083425509829,\n",
       "  0.6516480819016945,\n",
       "  0.6415573413632497,\n",
       "  0.6452693363197711,\n",
       "  0.6381377743071869,\n",
       "  0.6371571734672835,\n",
       "  0.6388561670519725]}"
      ]
     },
     "execution_count": 9,
     "metadata": {},
     "output_type": "execute_result"
    }
   ],
   "source": [
    "history.history"
   ]
  },
  {
   "cell_type": "code",
   "execution_count": 10,
   "metadata": {},
   "outputs": [
    {
     "data": {
      "image/png": "[encoded data removed]",
      "text/plain": [
       "<Figure size 432x288 with 1 Axes>"
      ]
     },
     "metadata": {
      "needs_background": "light"
     },
     "output_type": "display_data"
    }
   ],
   "source": [
    "plt.plot(range(20),history.history['loss'])\n",
    "plt.plot(range(20),history.history['val_loss'])\n",
    "plt.title('model loss')\n",
    "plt.ylabel('loss')\n",
    "plt.xlabel('epoch') #epoch\n",
    "plt.legend(['train', 'validation'], loc='upper right')\n",
    "plt.grid()\n",
    "plt.show()"
   ]
  },
  {
   "cell_type": "code",
   "execution_count": 11,
   "metadata": {},
   "outputs": [
    {
     "name": "stdout",
     "output_type": "stream",
     "text": [
      "final MSE for train is 0.83 and for validation is 0.64\n"
     ]
    }
   ],
   "source": [
    "print(\"final MSE for train is %.2f and for validation is %.2f\" % \n",
    "      (history.history['loss'][-1], history.history['val_loss'][-1]))\n",
    "#the -1 means the last value of the list"
   ]
  },
  {
   "cell_type": "markdown",
   "metadata": {},
   "source": [
    "Test the NN:"
   ]
  },
  {
   "cell_type": "code",
   "execution_count": 12,
   "metadata": {},
   "outputs": [
    {
     "name": "stdout",
     "output_type": "stream",
     "text": [
      "1443/1443 [==============================] - 0s 30us/sample - loss: 0.7580\n",
      "test set mse is 0.76\n"
     ]
    }
   ],
   "source": [
    "test_loss = estimator.model.evaluate(x_test_norm, y_test)\n",
    "print(\"test set mse is %.2f\" % test_loss)"
   ]
  },
  {
   "cell_type": "markdown",
   "metadata": {},
   "source": [
    "Predict with the NN:"
   ]
  },
  {
   "cell_type": "code",
   "execution_count": 13,
   "metadata": {},
   "outputs": [],
   "source": [
    "y_test_predict = estimator.predict(x_test_norm)"
   ]
  },
  {
   "cell_type": "code",
   "execution_count": 14,
   "metadata": {},
   "outputs": [
    {
     "data": {
      "image/png": "[encoded data removed]",
      "text/plain": [
       "<Figure size 432x288 with 1 Axes>"
      ]
     },
     "metadata": {
      "needs_background": "light"
     },
     "output_type": "display_data"
    }
   ],
   "source": [
    "plt.scatter(y_test, y_test_predict)\n",
    "plt.xlabel(\"True value of test data\")\n",
    "plt.ylabel(\"Predicted value of test data\")\n",
    "plt.plot(np.arange(min(y_test),max(y_test),0.01),np.arange(min(y_test),max(y_test),0.01),c='orange')\n",
    "plt.grid()"
   ]
  },
  {
   "cell_type": "markdown",
   "metadata": {},
   "source": [
    "## Tune the neural network\n",
    "\n",
    "### Tune the activation function\n",
    "\n",
    "Different types of activation functions are shown below. `ReLu` is a linear activation function. If all the activation function are linear in the neural network, the model will be essentially linear. `Sigmoid` and `Tanh` are two examples of non-linear activation functions. By using different activation functions in different layers, you could allow the model to have more complex mappings between the inputs and outputs.\n",
    "\n",
    "A full list of available activation functions in Keras can be found here: https://keras.io/api/layers/activations/ .\n",
    "\n",
    "In our example, you can set the activation function of each layer by the parameter `activation` in the `Dense()` function. "
   ]
  },
  {
   "cell_type": "code",
   "execution_count": 15,
   "metadata": {},
   "outputs": [
    {
     "data": {
      "text/plain": [
       "[-5, 5, -1.2, 1.2]"
      ]
     },
     "execution_count": 15,
     "metadata": {},
     "output_type": "execute_result"
    },
    {
     "data": {
      "image/png": "[encoded data removed]",
      "text/plain": [
       "<Figure size 432x288 with 1 Axes>"
      ]
     },
     "metadata": {
      "needs_background": "light"
     },
     "output_type": "display_data"
    }
   ],
   "source": [
    "def sigmoid(z):\n",
    "    return 1 / (1 + np.exp(-z))\n",
    "\n",
    "def relu(z):\n",
    "    return np.maximum(0, z)\n",
    "\n",
    "z = np.linspace(-5, 5, 200)\n",
    "plt.plot(z, sigmoid(z), \"g--\", linewidth=2, label=\"Sigmoid\")\n",
    "plt.plot(z, np.tanh(z), \"b-\", linewidth=2, label=\"Tanh\")\n",
    "plt.plot(z, relu(z), \"m-.\", linewidth=2, label=\"ReLU\")\n",
    "\n",
    "plt.grid(True)\n",
    "plt.legend(loc=\"center right\", fontsize=14)\n",
    "plt.title(\"Activation functions\", fontsize=14)\n",
    "plt.axis([-5, 5, -1.2, 1.2])"
   ]
  },
  {
   "cell_type": "markdown",
   "metadata": {},
   "source": [
    "### Exercise 1: \n",
    "Please define a new neural network by simply changing the parameter `activation` in the HIDDEN LAYER of the `nnmodel1()` from `relu` to a non-linear one of your choice, and train it with our training data.\n",
    "Is your result improved compared to `nnmodel1()` in terms of test error?"
   ]
  },
  {
   "cell_type": "code",
   "execution_count": 16,
   "metadata": {},
   "outputs": [],
   "source": [
    "def nnmodel2():\n",
    "    model = Sequential()\n",
    "    model.add(Dense(2, input_dim=x_train_norm.shape[1], kernel_initializer='normal', activation='sigmoid'))\n",
    "    model.add(Dense(20, kernel_initializer='normal', activation='sigmoid'))\n",
    "    model.add(Dense(1, kernel_initializer='normal'))\n",
    "    model.compile(loss='mean_squared_error', optimizer='adam')\n",
    "    return model "
   ]
  },
  {
   "cell_type": "code",
   "execution_count": 17,
   "metadata": {},
   "outputs": [],
   "source": [
    "np.random.seed(200)\n",
    "estimator2 = KerasRegressor(build_fn=nnmodel2) #specify the nn object called estimator\n",
    "history2 = estimator2.fit(x_train_norm, y_train, validation_split=0.33, epochs=20, batch_size=32, verbose=0)"
   ]
  },
  {
   "cell_type": "code",
   "execution_count": 18,
   "metadata": {},
   "outputs": [],
   "source": [
    "#history2.history"
   ]
  },
  {
   "cell_type": "code",
   "execution_count": 19,
   "metadata": {},
   "outputs": [
    {
     "data": {
      "image/png": "[encoded data removed]",
      "text/plain": [
       "<Figure size 432x288 with 1 Axes>"
      ]
     },
     "metadata": {
      "needs_background": "light"
     },
     "output_type": "display_data"
    }
   ],
   "source": [
    "plt.plot(range(20),history2.history['loss'])\n",
    "plt.plot(range(20),history2.history['val_loss'])\n",
    "plt.title('Model Loss')\n",
    "plt.ylabel('Loss')\n",
    "plt.xlabel('Epoch')\n",
    "plt.legend(['Train', 'Validation'], loc='upper right')\n",
    "plt.grid()\n",
    "plt.show()"
   ]
  },
  {
   "cell_type": "code",
   "execution_count": 20,
   "metadata": {},
   "outputs": [
    {
     "name": "stdout",
     "output_type": "stream",
     "text": [
      "Final MSE for Train is 1.22 and for Validation is 0.90\n",
      "\n",
      "1443/1443 [==============================] - 0s 30us/sample - loss: 1.0360\n",
      "Test set mse is 1.04\n",
      "\n",
      "The MSE for the ReLU activation function was 0.85 \n",
      "The MSE for the sigmoid activation was 1.2, so these are worse results compared to nnmodel1\n"
     ]
    }
   ],
   "source": [
    "print(\"Final MSE for Train is %.2f and for Validation is %.2f\" % \n",
    "      (history2.history['loss'][-1], history2.history['val_loss'][-1]))\n",
    "print()\n",
    "test_loss2 = estimator2.model.evaluate(x_test_norm, y_test)\n",
    "print(\"Test set mse is %.2f\" % test_loss2)\n",
    "print()\n",
    "print('The MSE for the ReLU activation function was 0.85 ')\n",
    "print('The MSE for the sigmoid activation was 1.2, so these are worse results compared to nnmodel1')"
   ]
  },
  {
   "cell_type": "markdown",
   "metadata": {},
   "source": [
    "### Tune learning rate of the optimizer\n",
    "\n",
    "The training of neural network can be regarded as an optimization process of searching the minimum of the loss function. Imagine you're searching a fastest way of going down a mountain (i.e. searching the 'minimum' of the mountain), one strategy you can take is going the direction with the steepest descent of height. And after going one step in that direction, you need to determine the new steepest descent since your location is updated. This is basically the main idea of the optimization algorithm, and the size of the step you take in one direction is the so called learning rate.\n",
    "\n",
    "For more details about the Gradient Descent algorithm and learning rate, you can check out this page: https://towardsdatascience.com/gradient-descent-algorithm-and-its-variants-10f652806a3\n",
    "\n",
    "<img width=\"512\" alt=\"Trajectory towards local minimum\" src=\"https://miro.medium.com/max/1400/1*70f9PB-RwFaakqD6lfp4iw.png\"></a>\n",
    "\n",
    "The `Adam` optimization we use here is a stochastic gradient descent method. The learning rate can be specified by the parameter `lr` in the `keras.optimizers.Adam()`. The default value is 0.001, let's change it to 0.1.\n",
    "\n",
    "For all the available optimizers in Keras, please see this page: https://keras.io/api/optimizers/"
   ]
  },
  {
   "cell_type": "code",
   "execution_count": 46,
   "metadata": {},
   "outputs": [],
   "source": [
    "def nnmodel3():\n",
    "    model = Sequential()\n",
    "    model.add(Dense(2, input_dim=x_train_norm.shape[1], kernel_initializer='normal', activation='relu'))\n",
    "    model.add(Dense(20, kernel_initializer='normal', activation='relu'))\n",
    "    model.add(Dense(1, kernel_initializer='normal'))\n",
    "    optimizer = keras.optimizers.Adam(lr=0.001)\n",
    "    model.compile(loss='mean_squared_error', optimizer=optimizer)\n",
    "    return model"
   ]
  },
  {
   "cell_type": "code",
   "execution_count": 47,
   "metadata": {},
   "outputs": [],
   "source": [
    "np.random.seed(111)\n",
    "estimator3 = KerasRegressor(build_fn=nnmodel3)\n",
    "history3 = estimator3.fit(x_train_norm, y_train, validation_split=0.33, epochs=20, batch_size=32, verbose=0)"
   ]
  },
  {
   "cell_type": "code",
   "execution_count": 48,
   "metadata": {},
   "outputs": [
    {
     "data": {
      "image/png": "[encoded data removed]",
      "text/plain": [
       "<Figure size 432x288 with 1 Axes>"
      ]
     },
     "metadata": {
      "needs_background": "light"
     },
     "output_type": "display_data"
    }
   ],
   "source": [
    "plt.plot(range(20),history3.history['loss'])\n",
    "plt.plot(range(20),history3.history['val_loss'])\n",
    "plt.title('model loss')\n",
    "plt.ylabel('loss')\n",
    "plt.xlabel('epoch') #epoch\n",
    "plt.legend(['train', 'validation'], loc='upper right')\n",
    "plt.grid()\n",
    "plt.show()"
   ]
  },
  {
   "cell_type": "code",
   "execution_count": 24,
   "metadata": {},
   "outputs": [
    {
     "name": "stdout",
     "output_type": "stream",
     "text": [
      "final MSE for train is 0.71 and for validation is 0.57\n"
     ]
    }
   ],
   "source": [
    "print(\"final MSE for train is %.2f and for validation is %.2f\" % \n",
    "      (history3.history['loss'][-1], history3.history['val_loss'][-1]))"
   ]
  },
  {
   "cell_type": "code",
   "execution_count": 25,
   "metadata": {},
   "outputs": [
    {
     "name": "stdout",
     "output_type": "stream",
     "text": [
      "1443/1443 [==============================] - 0s 30us/sample - loss: 0.6448\n",
      "test set mse is 0.64\n"
     ]
    }
   ],
   "source": [
    "test_loss3 = estimator3.model.evaluate(x_test_norm, y_test)\n",
    "print(\"test set mse is %.2f\" % test_loss3)"
   ]
  },
  {
   "cell_type": "code",
   "execution_count": 26,
   "metadata": {},
   "outputs": [
    {
     "data": {
      "image/png": "[encoded data removed]",
      "text/plain": [
       "<Figure size 432x288 with 1 Axes>"
      ]
     },
     "metadata": {
      "needs_background": "light"
     },
     "output_type": "display_data"
    }
   ],
   "source": [
    "y_test_predict3 = estimator3.predict(x_test_norm)\n",
    "plt.scatter(y_test, y_test_predict3)\n",
    "plt.xlabel(\"True value of test data\")\n",
    "plt.ylabel(\"Predicted value of test data\")\n",
    "plt.plot(np.arange(min(y_test),max(y_test),0.01),np.arange(min(y_test),max(y_test),0.01),c='orange')\n",
    "plt.grid()"
   ]
  },
  {
   "cell_type": "markdown",
   "metadata": {},
   "source": [
    "### Exercise 2:\n",
    "* Please try some other learning rate value. Is it always better to have larger learning rate? Please explain. "
   ]
  },
  {
   "cell_type": "code",
   "execution_count": 27,
   "metadata": {},
   "outputs": [
    {
     "name": "stdout",
     "output_type": "stream",
     "text": [
      "When the learning rate value was 1, the MSE was 3.83 \n",
      "When the Learning Rate Value was 0.1, the MSE was 0.53 \n",
      "When the learning rate value was 0.01, the MSE was 0.62\n",
      "When the learning rate value was 0.001, the MSE was 0.65\n",
      "So a smaller learning rate value is not necessarily always better to reduce the error.\n"
     ]
    }
   ],
   "source": [
    "print('When the learning rate value was 1, the MSE was 3.83 ')\n",
    "print('When the Learning Rate Value was 0.1, the MSE was 0.53 ')\n",
    "print('When the learning rate value was 0.01, the MSE was 0.62')\n",
    "print('When the learning rate value was 0.001, the MSE was 0.65')\n",
    "print('So a smaller learning rate value is not necessarily always better to reduce the error.')"
   ]
  },
  {
   "cell_type": "markdown",
   "metadata": {},
   "source": [
    "## Tune the number of layers\n",
    "### Exercise 3: \n",
    "* Please add an extra hidden layer to the `nnmodel3`(the new layer will be right before the output layer).  The number of neurons, kernal initializer, and activation function of the new layer are up to your choice. Train the new model on the training data, and evaluate: final mse for train,validation, test set mse. Make a scatter plot of predicted value of test data vs. true value of test data. "
   ]
  },
  {
   "cell_type": "code",
   "execution_count": 58,
   "metadata": {},
   "outputs": [],
   "source": [
    "def nnmodel3():\n",
    "    model = Sequential()\n",
    "    model.add(Dense(2, input_dim=x_train_norm.shape[1], kernel_initializer='normal', activation='relu'))\n",
    "    model.add(Dense(20, kernel_initializer='normal', activation='relu'))\n",
    "    #My New Hidden Layer\n",
    "    model.add(Dense(40, kernel_initializer='normal', activation='sigmoid'))\n",
    "    model.add(Dense(1, kernel_initializer='normal'))\n",
    "    optimizer = keras.optimizers.Adam(lr=0.001)\n",
    "    model.compile(loss='mean_squared_error', optimizer=optimizer)\n",
    "    return model"
   ]
  },
  {
   "cell_type": "code",
   "execution_count": 59,
   "metadata": {},
   "outputs": [
    {
     "data": {
      "image/png": "[encoded data removed]",
      "text/plain": [
       "<Figure size 432x288 with 1 Axes>"
      ]
     },
     "metadata": {
      "needs_background": "light"
     },
     "output_type": "display_data"
    }
   ],
   "source": [
    "np.random.seed(210)\n",
    "estimator3 = KerasRegressor(build_fn=nnmodel3)\n",
    "history3 = estimator3.fit(x_train_norm, y_train, validation_split=0.33, epochs=20, batch_size=32, verbose=0)    \n",
    "\n",
    "plt.plot(range(20),history3.history['loss'])\n",
    "plt.plot(range(20),history3.history['val_loss'])\n",
    "plt.title('model loss')\n",
    "plt.ylabel('loss')\n",
    "plt.xlabel('epoch') #epoch\n",
    "plt.legend(['train', 'validation'], loc='upper right')\n",
    "plt.grid()\n",
    "plt.show()"
   ]
  },
  {
   "cell_type": "code",
   "execution_count": 60,
   "metadata": {},
   "outputs": [
    {
     "data": {
      "image/png": "[encoded data removed]",
      "text/plain": [
       "<Figure size 432x288 with 1 Axes>"
      ]
     },
     "metadata": {
      "needs_background": "light"
     },
     "output_type": "display_data"
    }
   ],
   "source": [
    "y_test_predict3 = estimator3.predict(x_test_norm)\n",
    "plt.scatter(y_test, y_test_predict3,c='g')\n",
    "plt.xlabel(\"True value of test data\")\n",
    "plt.ylabel(\"Predicted value of test data\")\n",
    "plt.plot(np.arange(min(y_test),max(y_test),0.01),np.arange(min(y_test),max(y_test),0.01),c='red')\n",
    "plt.grid()"
   ]
  },
  {
   "cell_type": "code",
   "execution_count": 57,
   "metadata": {},
   "outputs": [
    {
     "name": "stdout",
     "output_type": "stream",
     "text": [
      "The final MSE for train is 0.99 and for validation is 0.72\n",
      "1443/1443 [==============================] - 0s 30us/sample - loss: 0.8510\n",
      "test set mse is 0.85\n"
     ]
    }
   ],
   "source": [
    "print(\"The final MSE for train is %.2f and for validation is %.2f\" % \n",
    "      (history3.history['loss'][-1], history3.history['val_loss'][-1]))\n",
    "test_loss3 = estimator3.model.evaluate(x_test_norm, y_test)\n",
    "print(\"test set mse is %.2f\" % test_loss3)"
   ]
  },
  {
   "cell_type": "code",
   "execution_count": null,
   "metadata": {},
   "outputs": [],
   "source": []
  }
 ],
 "metadata": {
  "kernelspec": {
   "display_name": "Python 3 (ipykernel)",
   "language": "python",
   "name": "python3"
  },
  "language_info": {
   "codemirror_mode": {
    "name": "ipython",
    "version": 3
   },
   "file_extension": ".py",
   "mimetype": "text/x-python",
   "name": "python",
   "nbconvert_exporter": "python",
   "pygments_lexer": "ipython3",
   "version": "3.9.12"
  }
 },
 "nbformat": 4,
 "nbformat_minor": 4
}
