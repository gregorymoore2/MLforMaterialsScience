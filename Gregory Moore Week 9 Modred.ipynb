{
 "cells": [
  {
   "cell_type": "markdown",
   "metadata": {},
   "source": [
    "Install packages - rdkit will take ~15+ minutes to install"
   ]
  },
  {
   "cell_type": "code",
   "execution_count": 1,
   "metadata": {},
   "outputs": [
    {
     "name": "stdout",
     "output_type": "stream",
     "text": [
      "Processing /home/jovyan/.cache/pip/wheels/02/c0/2e/e7e3d63b431777712ebc128bc4deb9ac5cb19afc7c1ea341ec/mordred-1.2.0-py3-none-any.whl\n",
      "Requirement already satisfied: networkx==2.* in /opt/conda/lib/python3.7/site-packages (from Mordred) (2.4)\n",
      "Requirement already satisfied: six==1.* in /opt/conda/lib/python3.7/site-packages (from Mordred) (1.14.0)\n",
      "Requirement already satisfied: numpy==1.* in /opt/conda/lib/python3.7/site-packages (from Mordred) (1.19.0)\n",
      "Requirement already satisfied: decorator>=4.3.0 in /opt/conda/lib/python3.7/site-packages (from networkx==2.*->Mordred) (4.4.2)\n",
      "Installing collected packages: Mordred\n",
      "Successfully installed Mordred-1.2.0\n",
      "Note: you may need to restart the kernel to use updated packages.\n"
     ]
    }
   ],
   "source": [
    "pip install Mordred"
   ]
  },
  {
   "cell_type": "code",
   "execution_count": 2,
   "metadata": {},
   "outputs": [
    {
     "name": "stdout",
     "output_type": "stream",
     "text": [
      "Collecting package metadata (current_repodata.json): done\n",
      "Solving environment: failed with initial frozen solve. Retrying with flexible solve.\n",
      "Solving environment: done\n",
      "\n",
      "\n",
      "==> WARNING: A newer version of conda exists. <==\n",
      "  current version: 4.7.12\n",
      "  latest version: 4.9.2\n",
      "\n",
      "Please update conda by running\n",
      "\n",
      "    $ conda update -n base conda\n",
      "\n",
      "\n",
      "Collecting package metadata (repodata.json): done\n",
      "Solving environment: failed with initial frozen solve. Retrying with flexible solve.\n",
      "Solving environment: done\n",
      "\n",
      "\n",
      "==> WARNING: A newer version of conda exists. <==\n",
      "  current version: 4.7.12\n",
      "  latest version: 4.9.2\n",
      "\n",
      "Please update conda by running\n",
      "\n",
      "    $ conda update -n base conda\n",
      "\n",
      "\n",
      "\n",
      "## Package Plan ##\n",
      "\n",
      "  environment location: /opt/conda\n",
      "\n",
      "  added / updated specs:\n",
      "    - rdkit\n",
      "\n",
      "\n",
      "The following packages will be downloaded:\n",
      "\n",
      "    package                    |            build\n",
      "    ---------------------------|-----------------\n",
      "    binutils_impl_linux-64-2.35.1|       h17ad2fc_0         9.3 MB  conda-forge\n",
      "    binutils_linux-64-2.35     |      hc3fd857_29          22 KB  conda-forge\n",
      "    boost-1.72.0               |   py37h48f8a5e_1         339 KB  conda-forge\n",
      "    boost-cpp-1.72.0           |       h8e57a91_0        21.8 MB  conda-forge\n",
      "    ca-certificates-2020.12.5  |       ha878542_0         137 KB  conda-forge\n",
      "    cairo-1.16.0               |    hcf35c78_1003         1.5 MB  conda-forge\n",
      "    certifi-2020.12.5          |   py37h89c1867_0         143 KB  conda-forge\n",
      "    cffi-1.14.4                |   py37hc58025e_1         225 KB  conda-forge\n",
      "    fontconfig-2.13.1          |    h86ecdb6_1001         340 KB  conda-forge\n",
      "    freetype-2.10.4            |       h7ca028e_0         912 KB  conda-forge\n",
      "    gcc_impl_linux-64-7.5.0    |      hda68d29_13        42.7 MB  conda-forge\n",
      "    gcc_linux-64-7.5.0         |      he2a3fca_29          23 KB  conda-forge\n",
      "    gettext-0.19.8.1           |    h0b5b191_1005         3.6 MB  conda-forge\n",
      "    glib-2.66.3                |       h9c3ff4c_1         502 KB  conda-forge\n",
      "    gxx_impl_linux-64-7.5.0    |      h64c220c_13        19.2 MB  conda-forge\n",
      "    gxx_linux-64-7.5.0         |      h547f3ba_29          22 KB  conda-forge\n",
      "    kernel-headers_linux-64-2.6.32|      h77966d4_13         707 KB  conda-forge\n",
      "    ld_impl_linux-64-2.35.1    |       hed1e6ac_0         617 KB  conda-forge\n",
      "    libffi-3.3                 |       h58526e2_1          51 KB  conda-forge\n",
      "    libgcc-ng-9.3.0            |      h5dbcf3e_17         7.8 MB  conda-forge\n",
      "    libglib-2.66.3             |       h1f3bc88_1         3.0 MB  conda-forge\n",
      "    libgomp-9.3.0              |      h5dbcf3e_17         378 KB  conda-forge\n",
      "    libiconv-1.16              |       h516909a_0         1.4 MB  conda-forge\n",
      "    libstdcxx-ng-9.3.0         |      h2ae2ef3_17         4.0 MB  conda-forge\n",
      "    libuuid-2.32.1             |    h7f98852_1000          28 KB  conda-forge\n",
      "    libxcb-1.13                |    h14c3975_1002         396 KB  conda-forge\n",
      "    libxml2-2.9.10             |       hee79883_0         1.3 MB  conda-forge\n",
      "    ncurses-6.2                |       h58526e2_4         985 KB  conda-forge\n",
      "    openssl-1.1.1h             |       h516909a_0         2.1 MB  conda-forge\n",
      "    pixman-0.38.0              |    h516909a_1003         594 KB  conda-forge\n",
      "    pmdarima-1.8.0             |   py37h902c9e0_0         656 KB  conda-forge\n",
      "    pthread-stubs-0.4          |    h36c2ea0_1001           5 KB  conda-forge\n",
      "    pycairo-1.20.0             |   py37h01af8b0_1          77 KB  conda-forge\n",
      "    python-3.7.8               |hffdb5ce_3_cpython        57.4 MB  conda-forge\n",
      "    rdkit-2020.09.2            |   py37h8f71f70_0        25.8 MB  conda-forge\n",
      "    reportlab-3.5.56           |   py37h69800bb_0         2.4 MB  conda-forge\n",
      "    sqlite-3.34.0              |       h74cdb3f_0         1.4 MB  conda-forge\n",
      "    sysroot_linux-64-2.12      |      h77966d4_13        30.2 MB  conda-forge\n",
      "    xorg-kbproto-1.0.7         |    h14c3975_1002          26 KB  conda-forge\n",
      "    xorg-libice-1.0.10         |       h516909a_0          57 KB  conda-forge\n",
      "    xorg-libsm-1.2.3           |    h84519dc_1000          25 KB  conda-forge\n",
      "    xorg-libx11-1.6.12         |       h516909a_0         917 KB  conda-forge\n",
      "    xorg-libxau-1.0.9          |       h14c3975_0          13 KB  conda-forge\n",
      "    xorg-libxdmcp-1.1.3        |       h516909a_0          18 KB  conda-forge\n",
      "    xorg-libxext-1.3.4         |       h516909a_0          51 KB  conda-forge\n",
      "    xorg-libxrender-0.9.10     |    h516909a_1002          31 KB  conda-forge\n",
      "    xorg-renderproto-0.11.1    |    h14c3975_1002           8 KB  conda-forge\n",
      "    xorg-xextproto-7.3.0       |    h14c3975_1002          27 KB  conda-forge\n",
      "    xorg-xproto-7.0.31         |    h7f98852_1007          73 KB  conda-forge\n",
      "    ------------------------------------------------------------\n",
      "                                           Total:       243.2 MB\n",
      "\n",
      "The following NEW packages will be INSTALLED:\n",
      "\n",
      "  boost              conda-forge/linux-64::boost-1.72.0-py37h48f8a5e_1\n",
      "  boost-cpp          conda-forge/linux-64::boost-cpp-1.72.0-h8e57a91_0\n",
      "  cairo              conda-forge/linux-64::cairo-1.16.0-hcf35c78_1003\n",
      "  fontconfig         conda-forge/linux-64::fontconfig-2.13.1-h86ecdb6_1001\n",
      "  kernel-headers_li~ conda-forge/noarch::kernel-headers_linux-64-2.6.32-h77966d4_13\n",
      "  libglib            conda-forge/linux-64::libglib-2.66.3-h1f3bc88_1\n",
      "  libuuid            conda-forge/linux-64::libuuid-2.32.1-h7f98852_1000\n",
      "  libxcb             conda-forge/linux-64::libxcb-1.13-h14c3975_1002\n",
      "  libxml2            conda-forge/linux-64::libxml2-2.9.10-hee79883_0\n",
      "  pixman             conda-forge/linux-64::pixman-0.38.0-h516909a_1003\n",
      "  pthread-stubs      conda-forge/linux-64::pthread-stubs-0.4-h36c2ea0_1001\n",
      "  pycairo            conda-forge/linux-64::pycairo-1.20.0-py37h01af8b0_1\n",
      "  rdkit              conda-forge/linux-64::rdkit-2020.09.2-py37h8f71f70_0\n",
      "  reportlab          conda-forge/linux-64::reportlab-3.5.56-py37h69800bb_0\n",
      "  sysroot_linux-64   conda-forge/noarch::sysroot_linux-64-2.12-h77966d4_13\n",
      "  xorg-kbproto       conda-forge/linux-64::xorg-kbproto-1.0.7-h14c3975_1002\n",
      "  xorg-libice        conda-forge/linux-64::xorg-libice-1.0.10-h516909a_0\n",
      "  xorg-libsm         conda-forge/linux-64::xorg-libsm-1.2.3-h84519dc_1000\n",
      "  xorg-libx11        conda-forge/linux-64::xorg-libx11-1.6.12-h516909a_0\n",
      "  xorg-libxau        conda-forge/linux-64::xorg-libxau-1.0.9-h14c3975_0\n",
      "  xorg-libxdmcp      conda-forge/linux-64::xorg-libxdmcp-1.1.3-h516909a_0\n",
      "  xorg-libxext       conda-forge/linux-64::xorg-libxext-1.3.4-h516909a_0\n",
      "  xorg-libxrender    conda-forge/linux-64::xorg-libxrender-0.9.10-h516909a_1002\n",
      "  xorg-renderproto   conda-forge/linux-64::xorg-renderproto-0.11.1-h14c3975_1002\n",
      "  xorg-xextproto     conda-forge/linux-64::xorg-xextproto-7.3.0-h14c3975_1002\n",
      "  xorg-xproto        conda-forge/linux-64::xorg-xproto-7.0.31-h7f98852_1007\n",
      "\n",
      "The following packages will be UPDATED:\n",
      "\n",
      "  binutils_impl_lin~                      2.33.1-h53a641e_8 --> 2.35.1-h17ad2fc_0\n",
      "  binutils_linux-64                      2.33.1-h9595d00_17 --> 2.35-hc3fd857_29\n",
      "  ca-certificates                      2020.6.20-hecda079_0 --> 2020.12.5-ha878542_0\n",
      "  certifi                          2020.6.20-py37hc8dfbb8_0 --> 2020.12.5-py37h89c1867_0\n",
      "  cffi                                1.14.0-py37hd463f26_0 --> 1.14.4-py37hc58025e_1\n",
      "  freetype                                2.10.0-he983fc9_1 --> 2.10.4-h7ca028e_0\n",
      "  gcc_impl_linux-64                        7.3.0-hd420e75_5 --> 7.5.0-hda68d29_13\n",
      "  gcc_linux-64                            7.3.0-h553295d_17 --> 7.5.0-he2a3fca_29\n",
      "  gettext                            0.19.8.1-hc5be6a0_1002 --> 0.19.8.1-h0b5b191_1005\n",
      "  glib                                    2.65.0-h6f030ca_0 --> 2.66.3-h9c3ff4c_1\n",
      "  gxx_impl_linux-64                        7.3.0-hdf63c60_5 --> 7.5.0-h64c220c_13\n",
      "  gxx_linux-64                            7.3.0-h553295d_17 --> 7.5.0-h547f3ba_29\n",
      "  ld_impl_linux-64                        2.33.1-h53a641e_8 --> 2.35.1-hed1e6ac_0\n",
      "  libffi                                3.2.1-he1b5a44_1006 --> 3.3-h58526e2_1\n",
      "  libgcc-ng                                9.2.0-h24d8f2e_2 --> 9.3.0-h5dbcf3e_17\n",
      "  libgomp                                  9.2.0-h24d8f2e_2 --> 9.3.0-h5dbcf3e_17\n",
      "  libiconv                               1.15-h516909a_1006 --> 1.16-h516909a_0\n",
      "  libstdcxx-ng                             9.2.0-hdf63c60_2 --> 9.3.0-h2ae2ef3_17\n",
      "  ncurses                                 6.1-hf484d3e_1002 --> 6.2-h58526e2_4\n",
      "  openssl                                 1.1.1g-h516909a_0 --> 1.1.1h-h516909a_0\n",
      "  pmdarima           saravji::pmdarima-1.2.0-py37hc689a4b_7 --> conda-forge::pmdarima-1.8.0-py37h902c9e0_0\n",
      "  python                           3.7.6-cpython_h8356626_6 --> 3.7.8-hffdb5ce_3_cpython\n",
      "  sqlite                                  3.30.1-hcee41ef_0 --> 3.34.0-h74cdb3f_0\n",
      "\n",
      "\n",
      "\n",
      "Downloading and Extracting Packages\n",
      "openssl-1.1.1h       | 2.1 MB    | ##################################### | 100% \n",
      "gxx_impl_linux-64-7. | 19.2 MB   | ##################################### | 100% \n",
      "gcc_linux-64-7.5.0   | 23 KB     | ##################################### | 100% \n",
      "cffi-1.14.4          | 225 KB    | ##################################### | 100% \n",
      "binutils_linux-64-2. | 22 KB     | ##################################### | 100% \n",
      "libffi-3.3           | 51 KB     | ##################################### | 100% \n",
      "xorg-libxdmcp-1.1.3  | 18 KB     | ##################################### | 100% \n",
      "xorg-libsm-1.2.3     | 25 KB     | ##################################### | 100% \n",
      "xorg-libx11-1.6.12   | 917 KB    | ##################################### | 100% \n",
      "pixman-0.38.0        | 594 KB    | ##################################### | 100% \n",
      "xorg-kbproto-1.0.7   | 26 KB     | ##################################### | 100% \n",
      "gcc_impl_linux-64-7. | 42.7 MB   | ##################################### | 100% \n",
      "gettext-0.19.8.1     | 3.6 MB    | ##################################### | 100% \n",
      "pmdarima-1.8.0       | 656 KB    | ##################################### | 100% \n",
      "libgcc-ng-9.3.0      | 7.8 MB    | ##################################### | 100% \n",
      "xorg-libxau-1.0.9    | 13 KB     | ##################################### | 100% \n",
      "xorg-renderproto-0.1 | 8 KB      | ##################################### | 100% \n",
      "ld_impl_linux-64-2.3 | 617 KB    | ##################################### | 100% \n",
      "xorg-xproto-7.0.31   | 73 KB     | ##################################### | 100% \n",
      "boost-cpp-1.72.0     | 21.8 MB   | ##################################### | 100% \n",
      "libglib-2.66.3       | 3.0 MB    | ##################################### | 100% \n",
      "sqlite-3.34.0        | 1.4 MB    | ##################################### | 100% \n",
      "pycairo-1.20.0       | 77 KB     | ##################################### | 100% \n",
      "reportlab-3.5.56     | 2.4 MB    | ##################################### | 100% \n",
      "xorg-xextproto-7.3.0 | 27 KB     | ##################################### | 100% \n",
      "freetype-2.10.4      | 912 KB    | ##################################### | 100% \n",
      "boost-1.72.0         | 339 KB    | ##################################### | 100% \n",
      "certifi-2020.12.5    | 143 KB    | ##################################### | 100% \n",
      "sysroot_linux-64-2.1 | 30.2 MB   | ##################################### | 100% \n",
      "ca-certificates-2020 | 137 KB    | ##################################### | 100% \n",
      "libxcb-1.13          | 396 KB    | ##################################### | 100% \n",
      "cairo-1.16.0         | 1.5 MB    | ##################################### | 100% \n",
      "libgomp-9.3.0        | 378 KB    | ##################################### | 100% \n",
      "libuuid-2.32.1       | 28 KB     | ##################################### | 100% \n",
      "xorg-libxrender-0.9. | 31 KB     | ##################################### | 100% \n",
      "xorg-libice-1.0.10   | 57 KB     | ##################################### | 100% \n",
      "rdkit-2020.09.2      | 25.8 MB   | ##################################### | 100% \n",
      "binutils_impl_linux- | 9.3 MB    | ##################################### | 100% \n",
      "libxml2-2.9.10       | 1.3 MB    | ##################################### | 100% \n",
      "libiconv-1.16        | 1.4 MB    | ##################################### | 100% \n",
      "glib-2.66.3          | 502 KB    | ##################################### | 100% \n",
      "xorg-libxext-1.3.4   | 51 KB     | ##################################### | 100% \n",
      "pthread-stubs-0.4    | 5 KB      | ##################################### | 100% \n",
      "gxx_linux-64-7.5.0   | 22 KB     | ##################################### | 100% \n",
      "fontconfig-2.13.1    | 340 KB    | ##################################### | 100% \n",
      "ncurses-6.2          | 985 KB    | ##################################### | 100% \n",
      "kernel-headers_linux | 707 KB    | ##################################### | 100% \n",
      "python-3.7.8         | 57.4 MB   | ##################################### | 100% \n",
      "libstdcxx-ng-9.3.0   | 4.0 MB    | ##################################### | 100% \n",
      "Preparing transaction: done\n",
      "Verifying transaction: done\n",
      "Executing transaction: done\n",
      "\n",
      "Note: you may need to restart the kernel to use updated packages.\n",
      "CPU times: user 22.9 s, sys: 5.42 s, total: 28.3 s\n",
      "Wall time: 16min 20s\n"
     ]
    }
   ],
   "source": [
    "%%time\n",
    "conda install rdkit"
   ]
  },
  {
   "cell_type": "markdown",
   "metadata": {},
   "source": [
    "# Chemical Descriptors\n",
    "Chemical descriptors essentially break a molecule down into numerical values so they can be treated quantitatively to build models for various applications$.^{[1]}$ <br/>\n",
    "<center><em>\"The molecular descriptor is the final result of a logic and mathematical procedure which transforms chemical information encoded within a symbolic representation of a molecule into a useful number or the result of some standardized experiment$\"^{[2]}$</em> ~ Roberto Todeschini </center>\n",
    "<br>\n",
    "Chemical descriptors can be split up into different dimensions$:^{[3]}$ <br>\n",
    "&nbsp;&nbsp;&nbsp;&nbsp;&nbsp;&nbsp;&nbsp; - 0D: bond counts, molecular weight, atom count<br>\n",
    "&nbsp;&nbsp;&nbsp;&nbsp;&nbsp;&nbsp;&nbsp; - 1D: fragment count, acceptor-donor bonds<br>\n",
    "&nbsp;&nbsp;&nbsp;&nbsp;&nbsp;&nbsp;&nbsp; - 2D: topological properties, connectivity<br>\n",
    "&nbsp;&nbsp;&nbsp;&nbsp;&nbsp;&nbsp;&nbsp; - 3D: geometric properties, charged partial surface area<br>\n",
    "&nbsp;&nbsp;&nbsp;&nbsp;&nbsp;&nbsp;&nbsp; - 4D: coordinates + conformations <br>\n",
    "\n",
    "We will be focusing on dimensions 0-2.\n",
    "\n"
   ]
  },
  {
   "cell_type": "markdown",
   "metadata": {},
   "source": [
    "Import all packages and modules"
   ]
  },
  {
   "cell_type": "code",
   "execution_count": 3,
   "metadata": {},
   "outputs": [],
   "source": [
    "from mordred import Calculator, descriptors\n",
    "import pandas as pd\n",
    "import numpy as np\n",
    "from rdkit import Chem\n",
    "import re"
   ]
  },
  {
   "cell_type": "markdown",
   "metadata": {},
   "source": [
    "Read csv into pandas dataframe and take a look at the pandas structure"
   ]
  },
  {
   "cell_type": "code",
   "execution_count": 4,
   "metadata": {},
   "outputs": [
    {
     "data": {
      "text/plain": [
       "(2500, 18)"
      ]
     },
     "execution_count": 4,
     "metadata": {},
     "output_type": "execute_result"
    }
   ],
   "source": [
    "df = pd.read_csv(\"week9data.csv\")\n",
    "df.shape"
   ]
  },
  {
   "cell_type": "code",
   "execution_count": 5,
   "metadata": {},
   "outputs": [
    {
     "data": {
      "text/plain": [
       "Index(['Unnamed: 0', 'Unnamed: 0.1', 'HOMO', 'LUMO', 'GAP', 'R2', 'ZPVE', 'U0',\n",
       "       'U', 'H', 'G', 'Cv', 'vibrational_frequencies', 'E1', 'E2', 'f1', 'f2',\n",
       "       'smiles'],\n",
       "      dtype='object')"
      ]
     },
     "execution_count": 5,
     "metadata": {},
     "output_type": "execute_result"
    }
   ],
   "source": [
    "df.columns"
   ]
  },
  {
   "cell_type": "code",
   "execution_count": 6,
   "metadata": {},
   "outputs": [
    {
     "data": {
      "text/html": [
       "<div>\n",
       "<style scoped>\n",
       "    .dataframe tbody tr th:only-of-type {\n",
       "        vertical-align: middle;\n",
       "    }\n",
       "\n",
       "    .dataframe tbody tr th {\n",
       "        vertical-align: top;\n",
       "    }\n",
       "\n",
       "    .dataframe thead th {\n",
       "        text-align: right;\n",
       "    }\n",
       "</style>\n",
       "<table border=\"1\" class=\"dataframe\">\n",
       "  <thead>\n",
       "    <tr style=\"text-align: right;\">\n",
       "      <th></th>\n",
       "      <th>Unnamed: 0</th>\n",
       "      <th>Unnamed: 0.1</th>\n",
       "      <th>HOMO</th>\n",
       "      <th>LUMO</th>\n",
       "      <th>GAP</th>\n",
       "      <th>R2</th>\n",
       "      <th>ZPVE</th>\n",
       "      <th>U0</th>\n",
       "      <th>U</th>\n",
       "      <th>H</th>\n",
       "      <th>G</th>\n",
       "      <th>Cv</th>\n",
       "      <th>vibrational_frequencies</th>\n",
       "      <th>E1</th>\n",
       "      <th>E2</th>\n",
       "      <th>f1</th>\n",
       "      <th>f2</th>\n",
       "      <th>smiles</th>\n",
       "    </tr>\n",
       "  </thead>\n",
       "  <tbody>\n",
       "    <tr>\n",
       "      <th>0</th>\n",
       "      <td>10000</td>\n",
       "      <td>10000</td>\n",
       "      <td>-0.2818</td>\n",
       "      <td>0.0280</td>\n",
       "      <td>0.3097</td>\n",
       "      <td>1109.2219</td>\n",
       "      <td>0.163679</td>\n",
       "      <td>-365.089448</td>\n",
       "      <td>-365.079822</td>\n",
       "      <td>-365.078877</td>\n",
       "      <td>-365.123724</td>\n",
       "      <td>34.380</td>\n",
       "      <td>[77.0073, 93.2123, 138.9224, 178.5504, 192.620...</td>\n",
       "      <td>0.286147</td>\n",
       "      <td>0.307326</td>\n",
       "      <td>0.010474</td>\n",
       "      <td>0.007055</td>\n",
       "      <td>CCC(C#N)C(C)O</td>\n",
       "    </tr>\n",
       "    <tr>\n",
       "      <th>1</th>\n",
       "      <td>10001</td>\n",
       "      <td>10001</td>\n",
       "      <td>-0.2338</td>\n",
       "      <td>0.0329</td>\n",
       "      <td>0.2667</td>\n",
       "      <td>1089.3310</td>\n",
       "      <td>0.175667</td>\n",
       "      <td>-345.190043</td>\n",
       "      <td>-345.180226</td>\n",
       "      <td>-345.179282</td>\n",
       "      <td>-345.224536</td>\n",
       "      <td>34.754</td>\n",
       "      <td>[68.1297, 104.648, 134.4941, 165.5848, 199.264...</td>\n",
       "      <td>0.235913</td>\n",
       "      <td>0.261144</td>\n",
       "      <td>0.001335</td>\n",
       "      <td>0.042259</td>\n",
       "      <td>CCC(C#N)N(C)C</td>\n",
       "    </tr>\n",
       "    <tr>\n",
       "      <th>2</th>\n",
       "      <td>10002</td>\n",
       "      <td>10002</td>\n",
       "      <td>-0.2355</td>\n",
       "      <td>0.0301</td>\n",
       "      <td>0.2656</td>\n",
       "      <td>1055.7727</td>\n",
       "      <td>0.165093</td>\n",
       "      <td>-361.232458</td>\n",
       "      <td>-361.222832</td>\n",
       "      <td>-361.221888</td>\n",
       "      <td>-361.266686</td>\n",
       "      <td>34.109</td>\n",
       "      <td>[69.584, 118.7058, 134.3934, 165.618, 220.7816...</td>\n",
       "      <td>0.239750</td>\n",
       "      <td>0.254295</td>\n",
       "      <td>0.001491</td>\n",
       "      <td>0.008953</td>\n",
       "      <td>CN(C)C(CN)C#N</td>\n",
       "    </tr>\n",
       "    <tr>\n",
       "      <th>3</th>\n",
       "      <td>10003</td>\n",
       "      <td>10003</td>\n",
       "      <td>-0.2497</td>\n",
       "      <td>0.0220</td>\n",
       "      <td>0.2716</td>\n",
       "      <td>1013.7067</td>\n",
       "      <td>0.152666</td>\n",
       "      <td>-381.108212</td>\n",
       "      <td>-381.099011</td>\n",
       "      <td>-381.098067</td>\n",
       "      <td>-381.142312</td>\n",
       "      <td>32.682</td>\n",
       "      <td>[45.8503, 102.8705, 159.4111, 190.3544, 225.52...</td>\n",
       "      <td>0.244233</td>\n",
       "      <td>0.268198</td>\n",
       "      <td>0.031047</td>\n",
       "      <td>0.029736</td>\n",
       "      <td>CN(C)C(CO)C#N</td>\n",
       "    </tr>\n",
       "    <tr>\n",
       "      <th>4</th>\n",
       "      <td>10004</td>\n",
       "      <td>10004</td>\n",
       "      <td>-0.2468</td>\n",
       "      <td>0.0315</td>\n",
       "      <td>0.2783</td>\n",
       "      <td>1158.4078</td>\n",
       "      <td>0.175927</td>\n",
       "      <td>-345.197890</td>\n",
       "      <td>-345.188039</td>\n",
       "      <td>-345.187095</td>\n",
       "      <td>-345.232383</td>\n",
       "      <td>35.096</td>\n",
       "      <td>[66.8466, 103.8318, 149.7294, 188.3125, 197.93...</td>\n",
       "      <td>0.243494</td>\n",
       "      <td>0.273211</td>\n",
       "      <td>0.005493</td>\n",
       "      <td>0.006682</td>\n",
       "      <td>CNC(C#N)C(C)C</td>\n",
       "    </tr>\n",
       "  </tbody>\n",
       "</table>\n",
       "</div>"
      ],
      "text/plain": [
       "   Unnamed: 0  Unnamed: 0.1    HOMO    LUMO     GAP         R2      ZPVE  \\\n",
       "0       10000         10000 -0.2818  0.0280  0.3097  1109.2219  0.163679   \n",
       "1       10001         10001 -0.2338  0.0329  0.2667  1089.3310  0.175667   \n",
       "2       10002         10002 -0.2355  0.0301  0.2656  1055.7727  0.165093   \n",
       "3       10003         10003 -0.2497  0.0220  0.2716  1013.7067  0.152666   \n",
       "4       10004         10004 -0.2468  0.0315  0.2783  1158.4078  0.175927   \n",
       "\n",
       "           U0           U           H           G      Cv  \\\n",
       "0 -365.089448 -365.079822 -365.078877 -365.123724  34.380   \n",
       "1 -345.190043 -345.180226 -345.179282 -345.224536  34.754   \n",
       "2 -361.232458 -361.222832 -361.221888 -361.266686  34.109   \n",
       "3 -381.108212 -381.099011 -381.098067 -381.142312  32.682   \n",
       "4 -345.197890 -345.188039 -345.187095 -345.232383  35.096   \n",
       "\n",
       "                             vibrational_frequencies        E1        E2  \\\n",
       "0  [77.0073, 93.2123, 138.9224, 178.5504, 192.620...  0.286147  0.307326   \n",
       "1  [68.1297, 104.648, 134.4941, 165.5848, 199.264...  0.235913  0.261144   \n",
       "2  [69.584, 118.7058, 134.3934, 165.618, 220.7816...  0.239750  0.254295   \n",
       "3  [45.8503, 102.8705, 159.4111, 190.3544, 225.52...  0.244233  0.268198   \n",
       "4  [66.8466, 103.8318, 149.7294, 188.3125, 197.93...  0.243494  0.273211   \n",
       "\n",
       "         f1        f2         smiles  \n",
       "0  0.010474  0.007055  CCC(C#N)C(C)O  \n",
       "1  0.001335  0.042259  CCC(C#N)N(C)C  \n",
       "2  0.001491  0.008953  CN(C)C(CN)C#N  \n",
       "3  0.031047  0.029736  CN(C)C(CO)C#N  \n",
       "4  0.005493  0.006682  CNC(C#N)C(C)C  "
      ]
     },
     "execution_count": 6,
     "metadata": {},
     "output_type": "execute_result"
    }
   ],
   "source": [
    "df.head()"
   ]
  },
  {
   "cell_type": "markdown",
   "metadata": {},
   "source": [
    "# RDKit"
   ]
  },
  {
   "cell_type": "markdown",
   "metadata": {},
   "source": [
    "Build a list of SMILES from the csv file and use rdkit to translate the string to format Mordred can read"
   ]
  },
  {
   "cell_type": "code",
   "execution_count": 7,
   "metadata": {},
   "outputs": [
    {
     "data": {
      "image/png": "[encoded data removed]",
      "text/plain": [
       "<rdkit.Chem.rdchem.Mol at 0x7ff272ad9300>"
      ]
     },
     "execution_count": 7,
     "metadata": {},
     "output_type": "execute_result"
    }
   ],
   "source": [
    "SMILES = []\n",
    "for molecule in df[\"smiles\"]:\n",
    "    SMILES.append(Chem.MolFromSmiles(molecule))\n",
    "SMILES[0]"
   ]
  },
  {
   "cell_type": "markdown",
   "metadata": {},
   "source": [
    "# Mordred"
   ]
  },
  {
   "cell_type": "markdown",
   "metadata": {},
   "source": [
    "Specific descriptors can be calculated by calling the appropriate module from the Mordred package"
   ]
  },
  {
   "cell_type": "code",
   "execution_count": 8,
   "metadata": {},
   "outputs": [],
   "source": [
    "mol_id = descriptors.MolecularId.MolecularId() # molecular ID\n",
    "nAtoms = descriptors.AtomCount.AtomCount() # number of all atoms  \n",
    "abci = descriptors.ABCIndex.ABCGGIndex() # atom-bond connectivity index\n",
    "aromatic = descriptors.Aromatic.AromaticAtomsCount() # aromatic atoms count\n",
    "nARing = descriptors.RingCount.RingCount(None, False, False, True, None) # aromatic ring count\n",
    "nFARing = descriptors.RingCount.RingCount(None, False, True, True, None) # aromatic fused ring count\n",
    "frag_cplx = descriptors.FragmentComplexity.FragmentComplexity() # fragment complexity\n",
    "dist_matrix = descriptors.DistanceMatrix.DistanceMatrix(\"SpAbs\") # graph energy from distance matrix"
   ]
  },
  {
   "cell_type": "markdown",
   "metadata": {},
   "source": [
    "Mordred descriptor list reference:    \n",
    "http://mordred-descriptor.github.io/documentation/master/descriptors.html"
   ]
  },
  {
   "cell_type": "markdown",
   "metadata": {},
   "source": [
    "Let's do some calculations on a random molecule from our SMILES list"
   ]
  },
  {
   "cell_type": "code",
   "execution_count": 9,
   "metadata": {},
   "outputs": [],
   "source": [
    "mol = SMILES[0]"
   ]
  },
  {
   "cell_type": "code",
   "execution_count": 10,
   "metadata": {},
   "outputs": [
    {
     "name": "stdout",
     "output_type": "stream",
     "text": [
      "19\n",
      "0\n",
      "7.02\n",
      "34.83747069060095\n"
     ]
    }
   ],
   "source": [
    "print(nAtoms(mol))\n",
    "print(aromatic(mol))\n",
    "print(frag_cplx(mol))\n",
    "print(dist_matrix(mol))"
   ]
  },
  {
   "cell_type": "markdown",
   "metadata": {},
   "source": [
    "### Exercise 1:\n",
    "Using the link above, load in other models and calculate new descriptors"
   ]
  },
  {
   "cell_type": "code",
   "execution_count": 50,
   "metadata": {},
   "outputs": [],
   "source": [
    "nH = descriptors.AtomCount.AtomCount('H')\n",
    "C1SP2 = descriptors.CarbonTypes.CarbonTypes(1,2) #sp2 carbon bound to 1 other carbon \n",
    "nRot = descriptors.RotatableBond.RotatableBondsCount()\n",
    "MW = descriptors.Weight.Weight(True, False)"
   ]
  },
  {
   "cell_type": "code",
   "execution_count": 57,
   "metadata": {},
   "outputs": [
    {
     "data": {
      "image/png": "[encoded data removed]",
      "text/plain": [
       "<rdkit.Chem.rdchem.Mol at 0x7ff272a67df0>"
      ]
     },
     "execution_count": 57,
     "metadata": {},
     "output_type": "execute_result"
    }
   ],
   "source": [
    "mol = SMILES[500]\n",
    "SMILES[500]"
   ]
  },
  {
   "cell_type": "code",
   "execution_count": 58,
   "metadata": {},
   "outputs": [
    {
     "name": "stdout",
     "output_type": "stream",
     "text": [
      "Number of Hydrogen Molecules: 9\n",
      "Number of Rotatable Bonsd: 0\n",
      "Number of SP2 Carbons bound to 1 other carbon: 1\n",
      "Molecular Weight: 111.068413908\n"
     ]
    }
   ],
   "source": [
    "print(\"Number of Hydrogen Molecules: \" +str(nH(mol)))\n",
    "print(\"Number of Rotatable Bonsd: \" + str(nRot(mol)))\n",
    "print(\"Number of SP2 Carbons bound to 1 other carbon: \" + str(C1SP2(mol)))\n",
    "print(\"Molecular Weight: \" + str(MW(mol)))"
   ]
  },
  {
   "cell_type": "markdown",
   "metadata": {},
   "source": [
    "### Exercise 2:\n",
    "Build an np.array containing the following descriptors for molecules 1236, 1358, 1468, 1569, and 1896 in our SMILES list:\n",
    "1. The number of O atoms\n",
    "2. Balaban's J index\n",
    "3. 3rd ordered Chi weighted by valence electrons\n",
    "4. Atomic polarizability\n",
    "5. Topoligical polar surface area"
   ]
  },
  {
   "cell_type": "code",
   "execution_count": 79,
   "metadata": {},
   "outputs": [
    {
     "data": {
      "text/plain": [
       "array([[ 2.        ,  1.        ,  2.        ,  2.        ,  2.        ],\n",
       "       [ 1.98189019,  2.077935  ,  2.08878651,  2.02758335,  2.24934812],\n",
       "       [ 0.28867513,  0.        ,  0.        ,  0.25      ,  0.        ],\n",
       "       [17.055137  , 19.256723  , 16.958344  , 15.721551  , 15.721551  ],\n",
       "       [52.32      , 12.47      , 29.46      , 38.33      , 37.38      ]])"
      ]
     },
     "execution_count": 79,
     "metadata": {},
     "output_type": "execute_result"
    }
   ],
   "source": [
    "nO = descriptors.AtomCount.AtomCount('O')\n",
    "BalabanJ = descriptors.BalabanJ.BalabanJ()\n",
    "Xch3d = descriptors.Chi.Chi('chain', 3, 'd', False)\n",
    "apol = descriptors.Polarizability.APol(False)\n",
    "TopoPSA = descriptors.TopoPSA.TopoPSA(False)\n",
    "\n",
    "mol1 = SMILES[1236]\n",
    "mol2 = SMILES[1358]\n",
    "mol3 = SMILES[1468]\n",
    "mol4 = SMILES[1569]\n",
    "mol5 = SMILES[1896]\n",
    "\n",
    "np.array([\n",
    "         [nO(mol1), nO(mol2), nO(mol3), nO(mol4), nO(mol5)],\n",
    "         [BalabanJ(mol1), BalabanJ(mol2), BalabanJ(mol3), BalabanJ(mol4), BalabanJ(mol5)],\n",
    "         [Xch3d(mol1), Xch3d(mol2), Xch3d(mol3), Xch3d(mol4), Xch3d(mol5)],\n",
    "         [apol(mol1), apol(mol2), apol(mol3), apol(mol4), apol(mol5)],\n",
    "         [TopoPSA(mol1), TopoPSA(mol2), TopoPSA(mol3), TopoPSA(mol4), TopoPSA(mol5)]\n",
    "        ])"
   ]
  },
  {
   "cell_type": "markdown",
   "metadata": {},
   "source": [
    "Initiate calculator to calculate ALL descriptors"
   ]
  },
  {
   "cell_type": "code",
   "execution_count": 60,
   "metadata": {},
   "outputs": [
    {
     "data": {
      "text/plain": [
       "1826"
      ]
     },
     "execution_count": 60,
     "metadata": {},
     "output_type": "execute_result"
    }
   ],
   "source": [
    "calc = Calculator(descriptors)\n",
    "len(calc.descriptors)\n",
    "#calc.descriptors[0]"
   ]
  },
  {
   "cell_type": "markdown",
   "metadata": {},
   "source": [
    "Calculate ALL descriptors for SMILES in list"
   ]
  },
  {
   "cell_type": "code",
   "execution_count": 61,
   "metadata": {},
   "outputs": [
    {
     "name": "stderr",
     "output_type": "stream",
     "text": [
      "100%|██████████| 2500/2500 [01:41<00:00, 24.65it/s]\n"
     ]
    }
   ],
   "source": [
    "mordred_df = calc.pandas(SMILES)"
   ]
  },
  {
   "cell_type": "code",
   "execution_count": 62,
   "metadata": {},
   "outputs": [
    {
     "data": {
      "text/html": [
       "<div>\n",
       "<style scoped>\n",
       "    .dataframe tbody tr th:only-of-type {\n",
       "        vertical-align: middle;\n",
       "    }\n",
       "\n",
       "    .dataframe tbody tr th {\n",
       "        vertical-align: top;\n",
       "    }\n",
       "\n",
       "    .dataframe thead th {\n",
       "        text-align: right;\n",
       "    }\n",
       "</style>\n",
       "<table border=\"1\" class=\"dataframe\">\n",
       "  <thead>\n",
       "    <tr style=\"text-align: right;\">\n",
       "      <th></th>\n",
       "      <th>ABC</th>\n",
       "      <th>ABCGG</th>\n",
       "      <th>nAcid</th>\n",
       "      <th>nBase</th>\n",
       "      <th>SpAbs_A</th>\n",
       "      <th>SpMax_A</th>\n",
       "      <th>SpDiam_A</th>\n",
       "      <th>SpAD_A</th>\n",
       "      <th>SpMAD_A</th>\n",
       "      <th>LogEE_A</th>\n",
       "      <th>...</th>\n",
       "      <th>SRW10</th>\n",
       "      <th>TSRW10</th>\n",
       "      <th>MW</th>\n",
       "      <th>AMW</th>\n",
       "      <th>WPath</th>\n",
       "      <th>WPol</th>\n",
       "      <th>Zagreb1</th>\n",
       "      <th>Zagreb2</th>\n",
       "      <th>mZagreb1</th>\n",
       "      <th>mZagreb2</th>\n",
       "    </tr>\n",
       "  </thead>\n",
       "  <tbody>\n",
       "    <tr>\n",
       "      <th>0</th>\n",
       "      <td>5.128087</td>\n",
       "      <td>5.749949</td>\n",
       "      <td>0</td>\n",
       "      <td>0</td>\n",
       "      <td>8.720566</td>\n",
       "      <td>2.101003</td>\n",
       "      <td>4.202006</td>\n",
       "      <td>8.720566</td>\n",
       "      <td>1.090071</td>\n",
       "      <td>2.90085</td>\n",
       "      <td>...</td>\n",
       "      <td>8.124151</td>\n",
       "      <td>34.544698</td>\n",
       "      <td>113.084064</td>\n",
       "      <td>5.951793</td>\n",
       "      <td>67</td>\n",
       "      <td>8</td>\n",
       "      <td>30.0</td>\n",
       "      <td>31.0</td>\n",
       "      <td>4.722222</td>\n",
       "      <td>2.111111</td>\n",
       "    </tr>\n",
       "    <tr>\n",
       "      <th>1</th>\n",
       "      <td>5.128087</td>\n",
       "      <td>5.749949</td>\n",
       "      <td>0</td>\n",
       "      <td>1</td>\n",
       "      <td>8.720566</td>\n",
       "      <td>2.101003</td>\n",
       "      <td>4.202006</td>\n",
       "      <td>8.720566</td>\n",
       "      <td>1.090071</td>\n",
       "      <td>2.90085</td>\n",
       "      <td>...</td>\n",
       "      <td>8.124151</td>\n",
       "      <td>34.544698</td>\n",
       "      <td>112.100048</td>\n",
       "      <td>5.605002</td>\n",
       "      <td>67</td>\n",
       "      <td>8</td>\n",
       "      <td>30.0</td>\n",
       "      <td>31.0</td>\n",
       "      <td>4.722222</td>\n",
       "      <td>2.111111</td>\n",
       "    </tr>\n",
       "    <tr>\n",
       "      <th>2</th>\n",
       "      <td>5.128087</td>\n",
       "      <td>5.749949</td>\n",
       "      <td>0</td>\n",
       "      <td>2</td>\n",
       "      <td>8.720566</td>\n",
       "      <td>2.101003</td>\n",
       "      <td>4.202006</td>\n",
       "      <td>8.720566</td>\n",
       "      <td>1.090071</td>\n",
       "      <td>2.90085</td>\n",
       "      <td>...</td>\n",
       "      <td>8.124151</td>\n",
       "      <td>34.544698</td>\n",
       "      <td>113.095297</td>\n",
       "      <td>5.952384</td>\n",
       "      <td>67</td>\n",
       "      <td>8</td>\n",
       "      <td>30.0</td>\n",
       "      <td>31.0</td>\n",
       "      <td>4.722222</td>\n",
       "      <td>2.111111</td>\n",
       "    </tr>\n",
       "    <tr>\n",
       "      <th>3</th>\n",
       "      <td>5.128087</td>\n",
       "      <td>5.749949</td>\n",
       "      <td>0</td>\n",
       "      <td>1</td>\n",
       "      <td>8.720566</td>\n",
       "      <td>2.101003</td>\n",
       "      <td>4.202006</td>\n",
       "      <td>8.720566</td>\n",
       "      <td>1.090071</td>\n",
       "      <td>2.90085</td>\n",
       "      <td>...</td>\n",
       "      <td>8.124151</td>\n",
       "      <td>34.544698</td>\n",
       "      <td>114.079313</td>\n",
       "      <td>6.337740</td>\n",
       "      <td>67</td>\n",
       "      <td>8</td>\n",
       "      <td>30.0</td>\n",
       "      <td>31.0</td>\n",
       "      <td>4.722222</td>\n",
       "      <td>2.111111</td>\n",
       "    </tr>\n",
       "    <tr>\n",
       "      <th>4</th>\n",
       "      <td>5.128087</td>\n",
       "      <td>5.749949</td>\n",
       "      <td>0</td>\n",
       "      <td>1</td>\n",
       "      <td>8.720566</td>\n",
       "      <td>2.101003</td>\n",
       "      <td>4.202006</td>\n",
       "      <td>8.720566</td>\n",
       "      <td>1.090071</td>\n",
       "      <td>2.90085</td>\n",
       "      <td>...</td>\n",
       "      <td>8.124151</td>\n",
       "      <td>34.544698</td>\n",
       "      <td>112.100048</td>\n",
       "      <td>5.605002</td>\n",
       "      <td>67</td>\n",
       "      <td>8</td>\n",
       "      <td>30.0</td>\n",
       "      <td>31.0</td>\n",
       "      <td>4.722222</td>\n",
       "      <td>2.111111</td>\n",
       "    </tr>\n",
       "  </tbody>\n",
       "</table>\n",
       "<p>5 rows × 1826 columns</p>\n",
       "</div>"
      ],
      "text/plain": [
       "        ABC     ABCGG  nAcid  nBase   SpAbs_A   SpMax_A  SpDiam_A    SpAD_A  \\\n",
       "0  5.128087  5.749949      0      0  8.720566  2.101003  4.202006  8.720566   \n",
       "1  5.128087  5.749949      0      1  8.720566  2.101003  4.202006  8.720566   \n",
       "2  5.128087  5.749949      0      2  8.720566  2.101003  4.202006  8.720566   \n",
       "3  5.128087  5.749949      0      1  8.720566  2.101003  4.202006  8.720566   \n",
       "4  5.128087  5.749949      0      1  8.720566  2.101003  4.202006  8.720566   \n",
       "\n",
       "    SpMAD_A  LogEE_A  ...     SRW10     TSRW10          MW       AMW  WPath  \\\n",
       "0  1.090071  2.90085  ...  8.124151  34.544698  113.084064  5.951793     67   \n",
       "1  1.090071  2.90085  ...  8.124151  34.544698  112.100048  5.605002     67   \n",
       "2  1.090071  2.90085  ...  8.124151  34.544698  113.095297  5.952384     67   \n",
       "3  1.090071  2.90085  ...  8.124151  34.544698  114.079313  6.337740     67   \n",
       "4  1.090071  2.90085  ...  8.124151  34.544698  112.100048  5.605002     67   \n",
       "\n",
       "   WPol  Zagreb1  Zagreb2  mZagreb1  mZagreb2  \n",
       "0     8     30.0     31.0  4.722222  2.111111  \n",
       "1     8     30.0     31.0  4.722222  2.111111  \n",
       "2     8     30.0     31.0  4.722222  2.111111  \n",
       "3     8     30.0     31.0  4.722222  2.111111  \n",
       "4     8     30.0     31.0  4.722222  2.111111  \n",
       "\n",
       "[5 rows x 1826 columns]"
      ]
     },
     "execution_count": 62,
     "metadata": {},
     "output_type": "execute_result"
    }
   ],
   "source": [
    "mordred_df.shape\n",
    "mordred_df.head()"
   ]
  },
  {
   "cell_type": "code",
   "execution_count": 63,
   "metadata": {},
   "outputs": [
    {
     "data": {
      "text/html": [
       "<div>\n",
       "<style scoped>\n",
       "    .dataframe tbody tr th:only-of-type {\n",
       "        vertical-align: middle;\n",
       "    }\n",
       "\n",
       "    .dataframe tbody tr th {\n",
       "        vertical-align: top;\n",
       "    }\n",
       "\n",
       "    .dataframe thead th {\n",
       "        text-align: right;\n",
       "    }\n",
       "</style>\n",
       "<table border=\"1\" class=\"dataframe\">\n",
       "  <thead>\n",
       "    <tr style=\"text-align: right;\">\n",
       "      <th></th>\n",
       "      <th>Unnamed: 0</th>\n",
       "      <th>Unnamed: 0.1</th>\n",
       "      <th>HOMO</th>\n",
       "      <th>LUMO</th>\n",
       "      <th>GAP</th>\n",
       "      <th>R2</th>\n",
       "      <th>ZPVE</th>\n",
       "      <th>U0</th>\n",
       "      <th>U</th>\n",
       "      <th>H</th>\n",
       "      <th>...</th>\n",
       "      <th>SRW10</th>\n",
       "      <th>TSRW10</th>\n",
       "      <th>MW</th>\n",
       "      <th>AMW</th>\n",
       "      <th>WPath</th>\n",
       "      <th>WPol</th>\n",
       "      <th>Zagreb1</th>\n",
       "      <th>Zagreb2</th>\n",
       "      <th>mZagreb1</th>\n",
       "      <th>mZagreb2</th>\n",
       "    </tr>\n",
       "  </thead>\n",
       "  <tbody>\n",
       "    <tr>\n",
       "      <th>0</th>\n",
       "      <td>10000</td>\n",
       "      <td>10000</td>\n",
       "      <td>-0.2818</td>\n",
       "      <td>0.0280</td>\n",
       "      <td>0.3097</td>\n",
       "      <td>1109.2219</td>\n",
       "      <td>0.163679</td>\n",
       "      <td>-365.089448</td>\n",
       "      <td>-365.079822</td>\n",
       "      <td>-365.078877</td>\n",
       "      <td>...</td>\n",
       "      <td>8.124151</td>\n",
       "      <td>34.544698</td>\n",
       "      <td>113.084064</td>\n",
       "      <td>5.951793</td>\n",
       "      <td>67</td>\n",
       "      <td>8</td>\n",
       "      <td>30.0</td>\n",
       "      <td>31.0</td>\n",
       "      <td>4.722222</td>\n",
       "      <td>2.111111</td>\n",
       "    </tr>\n",
       "    <tr>\n",
       "      <th>1</th>\n",
       "      <td>10001</td>\n",
       "      <td>10001</td>\n",
       "      <td>-0.2338</td>\n",
       "      <td>0.0329</td>\n",
       "      <td>0.2667</td>\n",
       "      <td>1089.3310</td>\n",
       "      <td>0.175667</td>\n",
       "      <td>-345.190043</td>\n",
       "      <td>-345.180226</td>\n",
       "      <td>-345.179282</td>\n",
       "      <td>...</td>\n",
       "      <td>8.124151</td>\n",
       "      <td>34.544698</td>\n",
       "      <td>112.100048</td>\n",
       "      <td>5.605002</td>\n",
       "      <td>67</td>\n",
       "      <td>8</td>\n",
       "      <td>30.0</td>\n",
       "      <td>31.0</td>\n",
       "      <td>4.722222</td>\n",
       "      <td>2.111111</td>\n",
       "    </tr>\n",
       "    <tr>\n",
       "      <th>2</th>\n",
       "      <td>10002</td>\n",
       "      <td>10002</td>\n",
       "      <td>-0.2355</td>\n",
       "      <td>0.0301</td>\n",
       "      <td>0.2656</td>\n",
       "      <td>1055.7727</td>\n",
       "      <td>0.165093</td>\n",
       "      <td>-361.232458</td>\n",
       "      <td>-361.222832</td>\n",
       "      <td>-361.221888</td>\n",
       "      <td>...</td>\n",
       "      <td>8.124151</td>\n",
       "      <td>34.544698</td>\n",
       "      <td>113.095297</td>\n",
       "      <td>5.952384</td>\n",
       "      <td>67</td>\n",
       "      <td>8</td>\n",
       "      <td>30.0</td>\n",
       "      <td>31.0</td>\n",
       "      <td>4.722222</td>\n",
       "      <td>2.111111</td>\n",
       "    </tr>\n",
       "    <tr>\n",
       "      <th>3</th>\n",
       "      <td>10003</td>\n",
       "      <td>10003</td>\n",
       "      <td>-0.2497</td>\n",
       "      <td>0.0220</td>\n",
       "      <td>0.2716</td>\n",
       "      <td>1013.7067</td>\n",
       "      <td>0.152666</td>\n",
       "      <td>-381.108212</td>\n",
       "      <td>-381.099011</td>\n",
       "      <td>-381.098067</td>\n",
       "      <td>...</td>\n",
       "      <td>8.124151</td>\n",
       "      <td>34.544698</td>\n",
       "      <td>114.079313</td>\n",
       "      <td>6.337740</td>\n",
       "      <td>67</td>\n",
       "      <td>8</td>\n",
       "      <td>30.0</td>\n",
       "      <td>31.0</td>\n",
       "      <td>4.722222</td>\n",
       "      <td>2.111111</td>\n",
       "    </tr>\n",
       "    <tr>\n",
       "      <th>4</th>\n",
       "      <td>10004</td>\n",
       "      <td>10004</td>\n",
       "      <td>-0.2468</td>\n",
       "      <td>0.0315</td>\n",
       "      <td>0.2783</td>\n",
       "      <td>1158.4078</td>\n",
       "      <td>0.175927</td>\n",
       "      <td>-345.197890</td>\n",
       "      <td>-345.188039</td>\n",
       "      <td>-345.187095</td>\n",
       "      <td>...</td>\n",
       "      <td>8.124151</td>\n",
       "      <td>34.544698</td>\n",
       "      <td>112.100048</td>\n",
       "      <td>5.605002</td>\n",
       "      <td>67</td>\n",
       "      <td>8</td>\n",
       "      <td>30.0</td>\n",
       "      <td>31.0</td>\n",
       "      <td>4.722222</td>\n",
       "      <td>2.111111</td>\n",
       "    </tr>\n",
       "  </tbody>\n",
       "</table>\n",
       "<p>5 rows × 1844 columns</p>\n",
       "</div>"
      ],
      "text/plain": [
       "   Unnamed: 0  Unnamed: 0.1    HOMO    LUMO     GAP         R2      ZPVE  \\\n",
       "0       10000         10000 -0.2818  0.0280  0.3097  1109.2219  0.163679   \n",
       "1       10001         10001 -0.2338  0.0329  0.2667  1089.3310  0.175667   \n",
       "2       10002         10002 -0.2355  0.0301  0.2656  1055.7727  0.165093   \n",
       "3       10003         10003 -0.2497  0.0220  0.2716  1013.7067  0.152666   \n",
       "4       10004         10004 -0.2468  0.0315  0.2783  1158.4078  0.175927   \n",
       "\n",
       "           U0           U           H  ...     SRW10     TSRW10          MW  \\\n",
       "0 -365.089448 -365.079822 -365.078877  ...  8.124151  34.544698  113.084064   \n",
       "1 -345.190043 -345.180226 -345.179282  ...  8.124151  34.544698  112.100048   \n",
       "2 -361.232458 -361.222832 -361.221888  ...  8.124151  34.544698  113.095297   \n",
       "3 -381.108212 -381.099011 -381.098067  ...  8.124151  34.544698  114.079313   \n",
       "4 -345.197890 -345.188039 -345.187095  ...  8.124151  34.544698  112.100048   \n",
       "\n",
       "        AMW  WPath  WPol  Zagreb1 Zagreb2  mZagreb1  mZagreb2  \n",
       "0  5.951793     67     8     30.0    31.0  4.722222  2.111111  \n",
       "1  5.605002     67     8     30.0    31.0  4.722222  2.111111  \n",
       "2  5.952384     67     8     30.0    31.0  4.722222  2.111111  \n",
       "3  6.337740     67     8     30.0    31.0  4.722222  2.111111  \n",
       "4  5.605002     67     8     30.0    31.0  4.722222  2.111111  \n",
       "\n",
       "[5 rows x 1844 columns]"
      ]
     },
     "execution_count": 63,
     "metadata": {},
     "output_type": "execute_result"
    }
   ],
   "source": [
    "final_df = pd.concat([df, mordred_df], axis=1)\n",
    "final_df.head()"
   ]
  },
  {
   "cell_type": "markdown",
   "metadata": {},
   "source": [
    "#### Save dataframe as csv"
   ]
  },
  {
   "cell_type": "code",
   "execution_count": 64,
   "metadata": {},
   "outputs": [],
   "source": [
    "final_df.to_csv(\"mordred_df.csv\")"
   ]
  },
  {
   "cell_type": "markdown",
   "metadata": {},
   "source": [
    "# References:\n",
    "1. https://jcheminf.biomedcentral.com/articles/10.1186/s13321-018-0258-y <br/>\n",
    "2. https://onlinelibrary.wiley.com/doi/pdf/10.1002/9783527613106.fmatter <br/>\n",
    "3. https://fiehnlab.ucdavis.edu/staff/kind/chemoinformatics/concepts/descriptors <br/>"
   ]
  },
  {
   "cell_type": "code",
   "execution_count": null,
   "metadata": {},
   "outputs": [],
   "source": []
  }
 ],
 "metadata": {
  "kernelspec": {
   "display_name": "Python 3",
   "language": "python",
   "name": "python3"
  },
  "language_info": {
   "codemirror_mode": {
    "name": "ipython",
    "version": 3
   },
   "file_extension": ".py",
   "mimetype": "text/x-python",
   "name": "python",
   "nbconvert_exporter": "python",
   "pygments_lexer": "ipython3",
   "version": "3.7.6"
  }
 },
 "nbformat": 4,
 "nbformat_minor": 4
}
