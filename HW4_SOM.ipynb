{
 "cells": [
  {
   "cell_type": "markdown",
   "metadata": {},
   "source": [
    "Use `pip install minisom` to install the package."
   ]
  },
  {
   "cell_type": "code",
   "execution_count": 19,
   "metadata": {},
   "outputs": [],
   "source": [
    "import minisom\n",
    "from minisom import MiniSom\n",
    "import pandas as pd\n",
    "import numpy as np\n",
    "\n",
    "import matplotlib.pyplot as plt\n",
    "import seaborn as sn\n",
    "\n",
    "from sklearn.cluster import KMeans"
   ]
  },
  {
   "cell_type": "markdown",
   "metadata": {},
   "source": [
    "## Homework4 Self-organizing map(SOM)\n",
    "\n",
    "In this notebook we will use the data of 2500 molecules we already obtained by the end of the Mordred part of Week9 hands-on session. You can download the dataset `mordred_df.csv` from Canvas."
   ]
  },
  {
   "cell_type": "code",
   "execution_count": 14,
   "metadata": {},
   "outputs": [],
   "source": [
    "data = pd.read_csv(\"./mordred_df.csv\",low_memory=False)"
   ]
  },
  {
   "cell_type": "code",
   "execution_count": 15,
   "metadata": {},
   "outputs": [
    {
     "data": {
      "text/html": [
       "<div>\n",
       "<style scoped>\n",
       "    .dataframe tbody tr th:only-of-type {\n",
       "        vertical-align: middle;\n",
       "    }\n",
       "\n",
       "    .dataframe tbody tr th {\n",
       "        vertical-align: top;\n",
       "    }\n",
       "\n",
       "    .dataframe thead th {\n",
       "        text-align: right;\n",
       "    }\n",
       "</style>\n",
       "<table border=\"1\" class=\"dataframe\">\n",
       "  <thead>\n",
       "    <tr style=\"text-align: right;\">\n",
       "      <th></th>\n",
       "      <th>Unnamed: 0</th>\n",
       "      <th>Unnamed: 0.1</th>\n",
       "      <th>Unnamed: 0.1.1</th>\n",
       "      <th>HOMO</th>\n",
       "      <th>LUMO</th>\n",
       "      <th>GAP</th>\n",
       "      <th>R2</th>\n",
       "      <th>ZPVE</th>\n",
       "      <th>U0</th>\n",
       "      <th>U</th>\n",
       "      <th>...</th>\n",
       "      <th>SRW10</th>\n",
       "      <th>TSRW10</th>\n",
       "      <th>MW</th>\n",
       "      <th>AMW</th>\n",
       "      <th>WPath</th>\n",
       "      <th>WPol</th>\n",
       "      <th>Zagreb1</th>\n",
       "      <th>Zagreb2</th>\n",
       "      <th>mZagreb1</th>\n",
       "      <th>mZagreb2</th>\n",
       "    </tr>\n",
       "  </thead>\n",
       "  <tbody>\n",
       "    <tr>\n",
       "      <th>0</th>\n",
       "      <td>0</td>\n",
       "      <td>10000</td>\n",
       "      <td>10000</td>\n",
       "      <td>-0.2818</td>\n",
       "      <td>0.0280</td>\n",
       "      <td>0.3097</td>\n",
       "      <td>1109.2219</td>\n",
       "      <td>0.163679</td>\n",
       "      <td>-365.089448</td>\n",
       "      <td>-365.079822</td>\n",
       "      <td>...</td>\n",
       "      <td>8.124151</td>\n",
       "      <td>34.544698</td>\n",
       "      <td>113.084064</td>\n",
       "      <td>5.951793</td>\n",
       "      <td>67</td>\n",
       "      <td>8</td>\n",
       "      <td>30.0</td>\n",
       "      <td>31.0</td>\n",
       "      <td>4.722222</td>\n",
       "      <td>2.111111</td>\n",
       "    </tr>\n",
       "    <tr>\n",
       "      <th>1</th>\n",
       "      <td>1</td>\n",
       "      <td>10001</td>\n",
       "      <td>10001</td>\n",
       "      <td>-0.2338</td>\n",
       "      <td>0.0329</td>\n",
       "      <td>0.2667</td>\n",
       "      <td>1089.3310</td>\n",
       "      <td>0.175667</td>\n",
       "      <td>-345.190043</td>\n",
       "      <td>-345.180226</td>\n",
       "      <td>...</td>\n",
       "      <td>8.124151</td>\n",
       "      <td>34.544698</td>\n",
       "      <td>112.100048</td>\n",
       "      <td>5.605002</td>\n",
       "      <td>67</td>\n",
       "      <td>8</td>\n",
       "      <td>30.0</td>\n",
       "      <td>31.0</td>\n",
       "      <td>4.722222</td>\n",
       "      <td>2.111111</td>\n",
       "    </tr>\n",
       "    <tr>\n",
       "      <th>2</th>\n",
       "      <td>2</td>\n",
       "      <td>10002</td>\n",
       "      <td>10002</td>\n",
       "      <td>-0.2355</td>\n",
       "      <td>0.0301</td>\n",
       "      <td>0.2656</td>\n",
       "      <td>1055.7727</td>\n",
       "      <td>0.165093</td>\n",
       "      <td>-361.232458</td>\n",
       "      <td>-361.222832</td>\n",
       "      <td>...</td>\n",
       "      <td>8.124151</td>\n",
       "      <td>34.544698</td>\n",
       "      <td>113.095297</td>\n",
       "      <td>5.952384</td>\n",
       "      <td>67</td>\n",
       "      <td>8</td>\n",
       "      <td>30.0</td>\n",
       "      <td>31.0</td>\n",
       "      <td>4.722222</td>\n",
       "      <td>2.111111</td>\n",
       "    </tr>\n",
       "    <tr>\n",
       "      <th>3</th>\n",
       "      <td>3</td>\n",
       "      <td>10003</td>\n",
       "      <td>10003</td>\n",
       "      <td>-0.2497</td>\n",
       "      <td>0.0220</td>\n",
       "      <td>0.2716</td>\n",
       "      <td>1013.7067</td>\n",
       "      <td>0.152666</td>\n",
       "      <td>-381.108212</td>\n",
       "      <td>-381.099011</td>\n",
       "      <td>...</td>\n",
       "      <td>8.124151</td>\n",
       "      <td>34.544698</td>\n",
       "      <td>114.079313</td>\n",
       "      <td>6.337740</td>\n",
       "      <td>67</td>\n",
       "      <td>8</td>\n",
       "      <td>30.0</td>\n",
       "      <td>31.0</td>\n",
       "      <td>4.722222</td>\n",
       "      <td>2.111111</td>\n",
       "    </tr>\n",
       "    <tr>\n",
       "      <th>4</th>\n",
       "      <td>4</td>\n",
       "      <td>10004</td>\n",
       "      <td>10004</td>\n",
       "      <td>-0.2468</td>\n",
       "      <td>0.0315</td>\n",
       "      <td>0.2783</td>\n",
       "      <td>1158.4078</td>\n",
       "      <td>0.175927</td>\n",
       "      <td>-345.197890</td>\n",
       "      <td>-345.188039</td>\n",
       "      <td>...</td>\n",
       "      <td>8.124151</td>\n",
       "      <td>34.544698</td>\n",
       "      <td>112.100048</td>\n",
       "      <td>5.605002</td>\n",
       "      <td>67</td>\n",
       "      <td>8</td>\n",
       "      <td>30.0</td>\n",
       "      <td>31.0</td>\n",
       "      <td>4.722222</td>\n",
       "      <td>2.111111</td>\n",
       "    </tr>\n",
       "    <tr>\n",
       "      <th>...</th>\n",
       "      <td>...</td>\n",
       "      <td>...</td>\n",
       "      <td>...</td>\n",
       "      <td>...</td>\n",
       "      <td>...</td>\n",
       "      <td>...</td>\n",
       "      <td>...</td>\n",
       "      <td>...</td>\n",
       "      <td>...</td>\n",
       "      <td>...</td>\n",
       "      <td>...</td>\n",
       "      <td>...</td>\n",
       "      <td>...</td>\n",
       "      <td>...</td>\n",
       "      <td>...</td>\n",
       "      <td>...</td>\n",
       "      <td>...</td>\n",
       "      <td>...</td>\n",
       "      <td>...</td>\n",
       "      <td>...</td>\n",
       "      <td>...</td>\n",
       "    </tr>\n",
       "    <tr>\n",
       "      <th>2495</th>\n",
       "      <td>2495</td>\n",
       "      <td>12495</td>\n",
       "      <td>12495</td>\n",
       "      <td>-0.2358</td>\n",
       "      <td>0.0769</td>\n",
       "      <td>0.3128</td>\n",
       "      <td>853.7899</td>\n",
       "      <td>0.154789</td>\n",
       "      <td>-384.924399</td>\n",
       "      <td>-384.917197</td>\n",
       "      <td>...</td>\n",
       "      <td>9.450066</td>\n",
       "      <td>58.686602</td>\n",
       "      <td>114.068080</td>\n",
       "      <td>6.337116</td>\n",
       "      <td>56</td>\n",
       "      <td>7</td>\n",
       "      <td>46.0</td>\n",
       "      <td>56.0</td>\n",
       "      <td>2.423611</td>\n",
       "      <td>1.666667</td>\n",
       "    </tr>\n",
       "    <tr>\n",
       "      <th>2496</th>\n",
       "      <td>2496</td>\n",
       "      <td>12496</td>\n",
       "      <td>12496</td>\n",
       "      <td>-0.2351</td>\n",
       "      <td>0.0884</td>\n",
       "      <td>0.3235</td>\n",
       "      <td>909.1024</td>\n",
       "      <td>0.178523</td>\n",
       "      <td>-349.001974</td>\n",
       "      <td>-348.994464</td>\n",
       "      <td>...</td>\n",
       "      <td>9.450066</td>\n",
       "      <td>58.686602</td>\n",
       "      <td>112.088815</td>\n",
       "      <td>5.604441</td>\n",
       "      <td>56</td>\n",
       "      <td>7</td>\n",
       "      <td>46.0</td>\n",
       "      <td>56.0</td>\n",
       "      <td>2.423611</td>\n",
       "      <td>1.666667</td>\n",
       "    </tr>\n",
       "    <tr>\n",
       "      <th>2497</th>\n",
       "      <td>2497</td>\n",
       "      <td>12497</td>\n",
       "      <td>12497</td>\n",
       "      <td>-0.2260</td>\n",
       "      <td>0.0838</td>\n",
       "      <td>0.3098</td>\n",
       "      <td>850.3884</td>\n",
       "      <td>0.154001</td>\n",
       "      <td>-384.917317</td>\n",
       "      <td>-384.909969</td>\n",
       "      <td>...</td>\n",
       "      <td>9.450066</td>\n",
       "      <td>58.686602</td>\n",
       "      <td>114.068080</td>\n",
       "      <td>6.337116</td>\n",
       "      <td>56</td>\n",
       "      <td>7</td>\n",
       "      <td>46.0</td>\n",
       "      <td>56.0</td>\n",
       "      <td>2.423611</td>\n",
       "      <td>1.666667</td>\n",
       "    </tr>\n",
       "    <tr>\n",
       "      <th>2498</th>\n",
       "      <td>2498</td>\n",
       "      <td>12498</td>\n",
       "      <td>12498</td>\n",
       "      <td>-0.2464</td>\n",
       "      <td>0.0896</td>\n",
       "      <td>0.3360</td>\n",
       "      <td>852.9093</td>\n",
       "      <td>0.154925</td>\n",
       "      <td>-384.926418</td>\n",
       "      <td>-384.919218</td>\n",
       "      <td>...</td>\n",
       "      <td>9.450066</td>\n",
       "      <td>58.686602</td>\n",
       "      <td>114.068080</td>\n",
       "      <td>6.337116</td>\n",
       "      <td>56</td>\n",
       "      <td>7</td>\n",
       "      <td>46.0</td>\n",
       "      <td>56.0</td>\n",
       "      <td>2.423611</td>\n",
       "      <td>1.666667</td>\n",
       "    </tr>\n",
       "    <tr>\n",
       "      <th>2499</th>\n",
       "      <td>2499</td>\n",
       "      <td>12499</td>\n",
       "      <td>12499</td>\n",
       "      <td>-0.2539</td>\n",
       "      <td>0.0857</td>\n",
       "      <td>0.3396</td>\n",
       "      <td>925.9891</td>\n",
       "      <td>0.178600</td>\n",
       "      <td>-349.019716</td>\n",
       "      <td>-349.012162</td>\n",
       "      <td>...</td>\n",
       "      <td>9.450066</td>\n",
       "      <td>58.686602</td>\n",
       "      <td>112.088815</td>\n",
       "      <td>5.604441</td>\n",
       "      <td>56</td>\n",
       "      <td>7</td>\n",
       "      <td>46.0</td>\n",
       "      <td>56.0</td>\n",
       "      <td>2.423611</td>\n",
       "      <td>1.666667</td>\n",
       "    </tr>\n",
       "  </tbody>\n",
       "</table>\n",
       "<p>2500 rows × 1845 columns</p>\n",
       "</div>"
      ],
      "text/plain": [
       "      Unnamed: 0  Unnamed: 0.1  Unnamed: 0.1.1    HOMO    LUMO     GAP  \\\n",
       "0              0         10000           10000 -0.2818  0.0280  0.3097   \n",
       "1              1         10001           10001 -0.2338  0.0329  0.2667   \n",
       "2              2         10002           10002 -0.2355  0.0301  0.2656   \n",
       "3              3         10003           10003 -0.2497  0.0220  0.2716   \n",
       "4              4         10004           10004 -0.2468  0.0315  0.2783   \n",
       "...          ...           ...             ...     ...     ...     ...   \n",
       "2495        2495         12495           12495 -0.2358  0.0769  0.3128   \n",
       "2496        2496         12496           12496 -0.2351  0.0884  0.3235   \n",
       "2497        2497         12497           12497 -0.2260  0.0838  0.3098   \n",
       "2498        2498         12498           12498 -0.2464  0.0896  0.3360   \n",
       "2499        2499         12499           12499 -0.2539  0.0857  0.3396   \n",
       "\n",
       "             R2      ZPVE          U0           U  ...     SRW10     TSRW10  \\\n",
       "0     1109.2219  0.163679 -365.089448 -365.079822  ...  8.124151  34.544698   \n",
       "1     1089.3310  0.175667 -345.190043 -345.180226  ...  8.124151  34.544698   \n",
       "2     1055.7727  0.165093 -361.232458 -361.222832  ...  8.124151  34.544698   \n",
       "3     1013.7067  0.152666 -381.108212 -381.099011  ...  8.124151  34.544698   \n",
       "4     1158.4078  0.175927 -345.197890 -345.188039  ...  8.124151  34.544698   \n",
       "...         ...       ...         ...         ...  ...       ...        ...   \n",
       "2495   853.7899  0.154789 -384.924399 -384.917197  ...  9.450066  58.686602   \n",
       "2496   909.1024  0.178523 -349.001974 -348.994464  ...  9.450066  58.686602   \n",
       "2497   850.3884  0.154001 -384.917317 -384.909969  ...  9.450066  58.686602   \n",
       "2498   852.9093  0.154925 -384.926418 -384.919218  ...  9.450066  58.686602   \n",
       "2499   925.9891  0.178600 -349.019716 -349.012162  ...  9.450066  58.686602   \n",
       "\n",
       "              MW       AMW  WPath  WPol  Zagreb1  Zagreb2  mZagreb1  mZagreb2  \n",
       "0     113.084064  5.951793     67     8     30.0     31.0  4.722222  2.111111  \n",
       "1     112.100048  5.605002     67     8     30.0     31.0  4.722222  2.111111  \n",
       "2     113.095297  5.952384     67     8     30.0     31.0  4.722222  2.111111  \n",
       "3     114.079313  6.337740     67     8     30.0     31.0  4.722222  2.111111  \n",
       "4     112.100048  5.605002     67     8     30.0     31.0  4.722222  2.111111  \n",
       "...          ...       ...    ...   ...      ...      ...       ...       ...  \n",
       "2495  114.068080  6.337116     56     7     46.0     56.0  2.423611  1.666667  \n",
       "2496  112.088815  5.604441     56     7     46.0     56.0  2.423611  1.666667  \n",
       "2497  114.068080  6.337116     56     7     46.0     56.0  2.423611  1.666667  \n",
       "2498  114.068080  6.337116     56     7     46.0     56.0  2.423611  1.666667  \n",
       "2499  112.088815  5.604441     56     7     46.0     56.0  2.423611  1.666667  \n",
       "\n",
       "[2500 rows x 1845 columns]"
      ]
     },
     "execution_count": 15,
     "metadata": {},
     "output_type": "execute_result"
    }
   ],
   "source": [
    "data"
   ]
  },
  {
   "cell_type": "markdown",
   "metadata": {},
   "source": [
    "We picked 5 features from the dataset as the training data of SOM.\n",
    "\n",
    "The meaning of these descriptors can be found here: http://mordred-descriptor.github.io/documentation/master/descriptors.html"
   ]
  },
  {
   "cell_type": "code",
   "execution_count": 16,
   "metadata": {},
   "outputs": [],
   "source": [
    "subset = data[['nAtom', 'nBonds','bpol','apol','TopoPSA']]\n",
    "traindata = subset.values\n",
    "\n",
    "#normalize training data\n",
    "traindata = (traindata - np.mean(traindata, axis=0)) / np.std(traindata, axis=0)"
   ]
  },
  {
   "cell_type": "markdown",
   "metadata": {},
   "source": [
    "### To-do 1: Plot the feature correlation diagram for the dataframe `subset`. \n",
    "* Please refer to the feature correlation diagram in week5 hands-on jupyternotebook."
   ]
  },
  {
   "cell_type": "code",
   "execution_count": null,
   "metadata": {},
   "outputs": [],
   "source": []
  },
  {
   "cell_type": "markdown",
   "metadata": {},
   "source": [
    "Train SOM with the traindata:"
   ]
  },
  {
   "cell_type": "code",
   "execution_count": 17,
   "metadata": {},
   "outputs": [],
   "source": [
    "# Define a MiniSom object\n",
    "size = 50\n",
    "som = MiniSom(size, size, traindata.shape[1], sigma=1.0, learning_rate=1.0,neighborhood_function='gaussian', random_seed=0)\n",
    "\n",
    "# Initialize the weights by PCA\n",
    "som.pca_weights_init(traindata)\n",
    "\n",
    "# trains the SOM with specified iterations\n",
    "som.train(traindata, 5000) "
   ]
  },
  {
   "cell_type": "markdown",
   "metadata": {},
   "source": [
    "Get the errors:"
   ]
  },
  {
   "cell_type": "code",
   "execution_count": 18,
   "metadata": {},
   "outputs": [
    {
     "name": "stdout",
     "output_type": "stream",
     "text": [
      "Topographic error:  0.0148\n",
      "Quantization error:  0.06300767649392978\n"
     ]
    }
   ],
   "source": [
    "print('Topographic error: ', som.topographic_error(traindata))\n",
    "print('Quantization error: ', som.quantization_error(traindata))"
   ]
  },
  {
   "cell_type": "markdown",
   "metadata": {},
   "source": [
    "### To-do 2: Visualize the SOM grid, show all the best matching units on it in red dots."
   ]
  },
  {
   "cell_type": "code",
   "execution_count": null,
   "metadata": {},
   "outputs": [],
   "source": []
  },
  {
   "cell_type": "code",
   "execution_count": 10,
   "metadata": {},
   "outputs": [],
   "source": [
    "# get the weights of each node\n",
    "W = som.get_weights()"
   ]
  },
  {
   "cell_type": "markdown",
   "metadata": {},
   "source": [
    "Using the `get_weights` method of the som object, we can get the `weight` of each node in the SOM. (please refer to Prof.Luna Huang's lecture slides or the week9 hands-on notebook for the definition of `weight`, `node`)\n",
    "\n",
    "What `get_weights` returns is an array in the shape (`length`,`width`,`N`), `length` and `width` are the length and width of the size of the grid, `N` is the number of features in the training dataset. You can think of this arrays as N matrices with shape of (`length`,`width`), each such matrix is corresponding to the distribution of one feature.\n",
    "\n",
    "Then we can plot a heatmap for each of the features. In each heatmap we can show the distribution of the weight corresponding that feature.\n",
    "For example in the below, the heatmap of `Number of Atoms` is given. The red region in this map indicates that the nodes in this region are corresponding to molecules with larger number of atoms, and blue region corresponds to molecules with smaller number of atoms. "
   ]
  },
  {
   "cell_type": "code",
   "execution_count": 11,
   "metadata": {},
   "outputs": [
    {
     "data": {
      "image/png": "[encoded data removed]",
      "text/plain": [
       "<Figure size 360x360 with 1 Axes>"
      ]
     },
     "metadata": {
      "needs_background": "light"
     },
     "output_type": "display_data"
    }
   ],
   "source": [
    "plt.figure(figsize=(5, 5))\n",
    "plt.title('Number of Atoms')\n",
    "plt.pcolor(W[:,:,0], cmap='coolwarm')\n",
    "plt.xticks(np.arange(0,size,5))\n",
    "plt.yticks(np.arange(0,size,5))\n",
    "plt.show()"
   ]
  },
  {
   "cell_type": "markdown",
   "metadata": {},
   "source": [
    "### To-do 3: Plot the heatmaps for the rest 4 features."
   ]
  },
  {
   "cell_type": "code",
   "execution_count": null,
   "metadata": {},
   "outputs": [],
   "source": []
  },
  {
   "cell_type": "markdown",
   "metadata": {},
   "source": [
    "### Question: What can you observe from these heatmaps? Comparing with the feature correlation diagram you obtained in To-do 1, does it support what you observed from the heatmaps?"
   ]
  },
  {
   "cell_type": "markdown",
   "metadata": {},
   "source": [
    "## K-means clustering\n",
    "\n",
    "You may observe some patterns from the heatmaps. For example, some regions seems to have relatively low values for all the features(shown in blue in all the heatmaps), some regions have high values for certain features while one feature value is low, etc.\n",
    "\n",
    "Let's try performing K-means clustering on the SOM and see if the clustering will refect the patterns we observed from heatmaps. It's essentially using the weights of all the nodes as the training data for KMeans. \n",
    "\n",
    "(If you have difficulty understanding this part, please refer to 'Using SOM in conjunction with other methods' part in the lecture slides)"
   ]
  },
  {
   "cell_type": "code",
   "execution_count": 12,
   "metadata": {},
   "outputs": [],
   "source": [
    "# X is the training data of the KMeans. each row is the weight of one node.\n",
    "# W is the weights we obtained above.\n",
    "X = W.reshape(2500,5)"
   ]
  },
  {
   "cell_type": "code",
   "execution_count": 13,
   "metadata": {},
   "outputs": [],
   "source": [
    "# Fit Kmeans model with 4 clusters\n",
    "kmeans = KMeans(n_clusters=4,random_state=55).fit(X)"
   ]
  },
  {
   "cell_type": "markdown",
   "metadata": {},
   "source": [
    "### To-do 4: get the cluster index of each node. (Cluster index are numbers such as 0,1,2,or 3 indicating which cluster each sample belongs to)\n",
    "\n",
    "* You can refer to: https://scikit-learn.org/stable/modules/generated/sklearn.cluster.KMeans.html"
   ]
  },
  {
   "cell_type": "code",
   "execution_count": null,
   "metadata": {},
   "outputs": [],
   "source": []
  },
  {
   "cell_type": "markdown",
   "metadata": {},
   "source": [
    "### (Extra credit) To-do 5: visualize the SOM grid, show each little squares in colors corresponding to the clusters of the nodes.\n",
    "\n",
    "* This is to ask you make a clustering plot like the one on the right (No need to show the best matching unit and text)\n",
    "\n",
    "<img width=\"256\" alt=\"TrainSOM\" src=\"https://ars.els-cdn.com/content/image/1-s2.0-S2590048X19300202-gr7.jpg\"></a>\n",
    "\n",
    "\n",
    "hint: You can use the function `plt.pcolor`"
   ]
  },
  {
   "cell_type": "code",
   "execution_count": null,
   "metadata": {},
   "outputs": [],
   "source": []
  }
 ],
 "metadata": {
  "kernelspec": {
   "display_name": "Python 3",
   "language": "python",
   "name": "python3"
  },
  "language_info": {
   "codemirror_mode": {
    "name": "ipython",
    "version": 3
   },
   "file_extension": ".py",
   "mimetype": "text/x-python",
   "name": "python",
   "nbconvert_exporter": "python",
   "pygments_lexer": "ipython3",
   "version": "3.6.8"
  }
 },
 "nbformat": 4,
 "nbformat_minor": 4
}
